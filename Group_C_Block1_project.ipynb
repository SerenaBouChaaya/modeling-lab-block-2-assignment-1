{
 "cells": [
  {
   "cell_type": "markdown",
   "id": "f54ca30a",
   "metadata": {},
   "source": [
    "### COMPUTATIONAL CARPETNARY PROJECT"
   ]
  }
 ],
 "metadata": {
  "language_info": {
   "name": "python"
  }
 },
 "nbformat": 4,
 "nbformat_minor": 5
}
