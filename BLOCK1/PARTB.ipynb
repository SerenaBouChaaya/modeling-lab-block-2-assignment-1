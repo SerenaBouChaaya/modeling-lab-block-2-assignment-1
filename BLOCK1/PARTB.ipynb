{
 "cells": [
  {
   "cell_type": "code",
   "execution_count": 1,
   "metadata": {},
   "outputs": [
    {
     "name": "stdout",
     "output_type": "stream",
     "text": [
      "([1, 1], [1, 2])\n"
     ]
    }
   ],
   "source": [
    "import re\n",
    "import numpy as np\n",
    "from fractions import Fraction\n",
    "from math import gcd\n",
    "from functools import reduce\n",
    "def formula_in_dict(formula:str)-> dict:\n",
    "    element_pattern = r\"([A-Z][a-z]*)\"\n",
    "    number_pattern = r\"(\\d*)\"\n",
    "    pattern = element_pattern + number_pattern\n",
    "    counts = {}\n",
    "    for (element, count) in re.findall(pattern, formula):\n",
    "        if count == \"\":\n",
    "            count = 1\n",
    "        else:\n",
    "            count = int(count)\n",
    "        if element in counts:\n",
    "            counts[element] += count\n",
    "        else:\n",
    "            counts[element] = count\n",
    "    return counts\n",
    "\n",
    "\n",
    "def balance_reaction(reactants: list, products: list) -> list:\n",
    "    all_species = reactants + products\n",
    "    composition_dicts = [formula_in_dict(f) for f in all_species]\n",
    "    all_elements = set()\n",
    "    for composition_dict in composition_dicts:\n",
    "        for elem in composition_dict.keys():\n",
    "            all_elements.add(elem)\n",
    "    elements = sorted(all_elements)\n",
    "\n",
    "    matrix = []\n",
    "    for elem in elements:\n",
    "        row = []\n",
    "        for mol_dict in composition_dicts:\n",
    "             row.append(mol_dict.get(elem, 0))\n",
    "        for i in range(len(reactants), len(all_species)):\n",
    "            row[i] *= -1\n",
    "        matrix.append(row)\n",
    "\n",
    "    A = np.array(matrix, dtype=float)\n",
    "    u, s, vh = np.linalg.svd(A)\n",
    "    vec = vh[-1]\n",
    "    tol = 1e-10\n",
    "    non_zero_vals = vec[np.abs(vec) > tol]\n",
    "    min_val = np.min(np.abs(non_zero_vals)) \n",
    "    vec_scaled = vec / min_val\n",
    "    coeffs_frac = [Fraction(c).limit_denominator() for c in vec_scaled]\n",
    "    denominators = [f.denominator for f in coeffs_frac]\n",
    "    def lcm(a,b): return abs(a*b)//gcd(a,b)\n",
    "    lcm_total = reduce(lcm, denominators, 1)\n",
    "    coeffs_int = [int(f * lcm_total) for f in coeffs_frac]\n",
    "\n",
    "   \n",
    "\n",
    "    non_zero_ints = [abs(x) for x in coeffs_int if x != 0]\n",
    "    pgcd_total = reduce(gcd, non_zero_ints)\n",
    "    coeffs_final = [x // pgcd_total for x in coeffs_int]\n",
    "\n",
    "    if any(x < 0 for x in coeffs_final):\n",
    "        coeffs_final = [-x for x in coeffs_final]\n",
    "\n",
    "\n",
    "    return coeffs_final[:len(reactants)], coeffs_final[len(reactants):]\n",
    "\n",
    "print(balance_reaction([\"CaO2H2\", \"H2SO4\"], [\"CaSO4\", \"H2O\"]))\n",
    "\n",
    "\n"
   ]
  }
 ],
 "metadata": {
  "kernelspec": {
   "display_name": "Python 3",
   "language": "python",
   "name": "python3"
  },
  "language_info": {
   "codemirror_mode": {
    "name": "ipython",
    "version": 3
   },
   "file_extension": ".py",
   "mimetype": "text/x-python",
   "name": "python",
   "nbconvert_exporter": "python",
   "pygments_lexer": "ipython3",
   "version": "3.12.2"
  }
 },
 "nbformat": 4,
 "nbformat_minor": 2
}
