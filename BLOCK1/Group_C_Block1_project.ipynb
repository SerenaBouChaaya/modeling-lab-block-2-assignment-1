{
 "cells": [
  {
   "cell_type": "markdown",
   "id": "f54ca30a",
   "metadata": {},
   "source": [
    "### COMPUTATIONAL CARPETNARY PROJECT"
   ]
  },
  {
   "cell_type": "markdown",
   "id": "4944295f",
   "metadata": {},
   "source": [
    "***PART A - DATA STRUCTURES AND FUNCTIONS***"
   ]
  },
  {
   "cell_type": "code",
   "execution_count": 1,
   "id": "747af80e",
   "metadata": {},
   "outputs": [
    {
     "name": "stdout",
     "output_type": "stream",
     "text": [
      "H : 1.008\n",
      "He : 4.0026\n",
      "Li : 7.0\n",
      "Be : 9.012183\n",
      "B : 10.81\n",
      "C : 12.011\n",
      "N : 14.007\n",
      "O : 15.999\n",
      "F : 18.99840316\n",
      "Ne : 20.18\n"
     ]
    }
   ],
   "source": [
    "import pandas as pd\n",
    "df = pd.read_csv(\"periodic_table.csv\")\n",
    "\n",
    "element_dict={}\n",
    "\n",
    "for index, row in df.iterrows():\n",
    "    symbol= row[\"Symbol\"]\n",
    "    mass =row[\"AtomicMass\"]\n",
    "    element_dict[symbol]=mass\n",
    "\n",
    "#check it works \n",
    "for symbol in list(element_dict.keys())[:10]:\n",
    "    print(symbol,\":\",element_dict[symbol])"
   ]
  }
 ],
 "metadata": {
  "kernelspec": {
   "display_name": "cyp",
   "language": "python",
   "name": "python3"
  },
  "language_info": {
   "codemirror_mode": {
    "name": "ipython",
    "version": 3
   },
   "file_extension": ".py",
   "mimetype": "text/x-python",
   "name": "python",
   "nbconvert_exporter": "python",
   "pygments_lexer": "ipython3",
   "version": "3.10.16"
  }
 },
 "nbformat": 4,
 "nbformat_minor": 5
}
