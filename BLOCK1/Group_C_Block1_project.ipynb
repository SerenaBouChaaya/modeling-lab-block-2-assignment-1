{
 "cells": [
  {
   "cell_type": "markdown",
   "id": "f54ca30a",
   "metadata": {},
   "source": [
    "### COMPUTATIONAL CARPETNARY PROJECT"
   ]
  },
  {
   "cell_type": "markdown",
   "id": "4944295f",
   "metadata": {},
   "source": [
    "***PART A - DATA STRUCTURES AND FUNCTIONS***"
   ]
  },
  {
   "cell_type": "code",
   "execution_count": 28,
   "id": "747af80e",
   "metadata": {},
   "outputs": [
    {
     "name": "stdout",
     "output_type": "stream",
     "text": [
      "H : 1.008\n",
      "He : 4.0026\n",
      "Li : 7.0\n",
      "Be : 9.012183\n",
      "B : 10.81\n",
      "C : 12.011\n",
      "N : 14.007\n",
      "O : 15.999\n",
      "F : 18.99840316\n",
      "Ne : 20.18\n"
     ]
    }
   ],
   "source": [
    "import pandas as pd\n",
    "df = pd.read_csv(\"periodic_table.csv\")\n",
    "\n",
    "element_dict={}\n",
    "\n",
    "for index, row in df.iterrows():\n",
    "    symbol= row[\"Symbol\"]\n",
    "    mass =row[\"AtomicMass\"]\n",
    "    element_dict[symbol]=mass\n",
    "\n",
    "#check it works \n",
    "for symbol in list(element_dict.keys())[:10]:\n",
    "    print(symbol,\":\",element_dict[symbol])"
   ]
  },
  {
   "cell_type": "markdown",
   "id": "23d0fe59",
   "metadata": {},
   "source": [
    "- the csv file of the periodic table was loaded and from this an empty dictionnary was created\n",
    "- by iterating over the rows of the dataframe, the element **symbol** as the key and the **atomic mass** as the value \n",
    "- this yielded a dictionnary that maps each element symbol to its atomic mass \n",
    "\n",
    "\n"
   ]
  },
  {
   "cell_type": "markdown",
   "id": "7945c1a2",
   "metadata": {},
   "source": [
    "Now the goal is to write a function that takes chemcial formulas and returns the molecular mass "
   ]
  },
  {
   "cell_type": "code",
   "execution_count": 29,
   "id": "554a7898",
   "metadata": {},
   "outputs": [
    {
     "name": "stdout",
     "output_type": "stream",
     "text": [
      "H2O : 18.015\n",
      "He : 4.0026\n",
      "C6H12O6: 180.156\n"
     ]
    }
   ],
   "source": [
    "def molecular_mass(formula):\n",
    "    total_mass = 0\n",
    "    i = 0\n",
    "    while i < len(formula):\n",
    "        symbol = formula[i]\n",
    "        i += 1\n",
    "\n",
    "        if i < len(formula) and formula[i].islower():\n",
    "            symbol += formula[i]\n",
    "            i += 1  \n",
    "\n",
    "        num_str = \"\"\n",
    "        while i < len(formula) and formula[i].isdigit():\n",
    "            num_str += formula[i]\n",
    "            i += 1\n",
    "        count = int(num_str) if num_str else 1\n",
    "\n",
    "        \n",
    "        total_mass += element_dict[symbol] * count\n",
    "\n",
    "    return total_mass\n",
    "\n",
    "\n",
    "#check it works \n",
    "print(\"H2O :\", molecular_mass(\"H2O\"))     # ~18.015\n",
    "print(\"He :\", molecular_mass(\"He\"))      # ~4.0026\n",
    "print(\"C6H12O6:\", molecular_mass(\"C6H12O6\")) # ~180.156"
   ]
  },
  {
   "cell_type": "markdown",
   "id": "4d35da90",
   "metadata": {},
   "source": [
    "Calculating the Molecular Mass of a Formula\n",
    "\n",
    "- a function molecular_mass(formula) was written that takes a chemical formula (e.g. \"H2O\") as input  \n",
    "- inside the function, a variable total_mass is created and set to 0 → this will store the running sum of the molecular mass  \n",
    "- a while loop goes through the formula one character at a time using an index i \n",
    "\n",
    "*Step 1: Identify the element symbol*\n",
    "- the first character is always an uppercase letter (like \"H\" in \"H2O\", or \"C\" in \"CO2\")  \n",
    "- if the next character is a lowercase letter, it is added to the symbol (so \"He\" or \"Na\" are treated as one element)  \n",
    "\n",
    "*Step 2: Find how many atoms of that element are present*\n",
    "- the code then looks for digits following the symbol (e.g. 2 in \"H2O\" or 12 in \"C6H12O6\")  \n",
    "- if digits are found, they are combined into a number → this is the **count of atoms**  \n",
    "- if no number is found, the count defaults to 1 \n",
    "\n",
    "*Step 3: Look up the atomic mass*\n",
    "- using the dictionary (element_dict), the atomic mass for the element symbol is found  \n",
    "- the atomic mass is multiplied by the count of atoms  \n",
    "\n",
    "*Step 4: Add to the total mass*\n",
    "- the result for that element is added to total_mass  \n",
    "- the loop continues until the whole formula has been processed  \n",
    "\n",
    "*Final Step: Return the result*\n",
    "- once the loop ends, the function returns total_mass → the total molecular mass of the formula  \n",
    "\n",
    "---\n",
    "\n",
    "*Example with \"H2O\"*\n",
    "- Symbol = \"H\", Count = 2 → mass = 2 × 1.008 = 2.016  \n",
    "- Symbol = \"O\", Count = 1 → mass = 1 × 15.999 = 15.999  \n",
    "- **Total = 18.015**  \n"
   ]
  },
  {
   "cell_type": "markdown",
   "id": "0e084e96",
   "metadata": {},
   "source": [
    "Now the idea is to extend the code for the mass calculator to be able to deal with parenthesis in the brute formula"
   ]
  },
  {
   "cell_type": "code",
   "execution_count": 30,
   "id": "874afd4f",
   "metadata": {},
   "outputs": [
    {
     "name": "stdout",
     "output_type": "stream",
     "text": [
      "H2O: 18.015\n",
      "Ca(OH)2: 74.094\n",
      "Mg(OH(CH3)2)2: 118.459\n"
     ]
    }
   ],
   "source": [
    "def molecular_mass_parentheses(formula):\n",
    "    partial = []   # will hold partial masses and markers\n",
    "    i = 0\n",
    "\n",
    "    while i < len(formula):\n",
    "        if formula[i].isupper():\n",
    "            symbol = formula[i]\n",
    "            i += 1\n",
    "            if i < len(formula) and formula[i].islower():\n",
    "                symbol += formula[i]\n",
    "                i += 1\n",
    "\n",
    "            \n",
    "            num_str = \"\"\n",
    "            while i < len(formula) and formula[i].isdigit():\n",
    "                num_str += formula[i]\n",
    "                i += 1\n",
    "            count = int(num_str) if num_str else 1\n",
    "\n",
    "            \n",
    "            partial.append(element_dict[symbol] * count)\n",
    "\n",
    "        elif formula[i] == \"(\":\n",
    "            partial.append(\"(\")\n",
    "            i += 1\n",
    "\n",
    "        # 3. Handle closing parenthesis\n",
    "        elif formula[i] == \")\":\n",
    "            i += 1\n",
    "            # read number after )\n",
    "            num_str = \"\"\n",
    "            while i < len(formula) and formula[i].isdigit():\n",
    "                num_str += formula[i]\n",
    "                i += 1\n",
    "            count = int(num_str) if num_str else 1\n",
    "\n",
    "            # pop until \"(\"\n",
    "            temp = 0\n",
    "            while partial and partial[-1] != \"(\":\n",
    "                temp += partial.pop()\n",
    "            partial.pop()  # remove \"(\"\n",
    "            partial.append(temp * count)\n",
    "\n",
    "        else:\n",
    "            i += 1  # skip unexpected\n",
    "\n",
    "    return sum(partial)\n",
    "\n",
    "print(\"H2O:\",molecular_mass_parentheses(\"H2O\"))      # ~18\n",
    "print(\"Ca(OH)2:\", molecular_mass_parentheses(\"Ca(OH)2\"))  # ~74\n",
    "print(\"Mg(OH(CH3)2)2:\", molecular_mass_parentheses(\"Mg(OH(CH3)2)2\"))\n"
   ]
  },
  {
   "cell_type": "markdown",
   "id": "e10e7d2d",
   "metadata": {},
   "source": [
    "Calculating Molecular Mass with Parentheses (Non-Recursive)\n",
    "\n",
    "- the previous function worked for simple formulas (like *H2O* or *C6H12O6*), but it could not handle parentheses  \n",
    "- to fix this, the function was extended to support groups like *(OH)2* in *Ca(OH)2*  \n",
    "- the idea is to use a *stack* or a partial list, which is like a list where we add and remove values from the end  \n",
    "\n",
    "How it works\n",
    "1. *Read element symbols*\n",
    "   - just like before, the code finds symbols (like *Ca*, *O*, *H*) and numbers after them  \n",
    "   - the atomic mass multiplied by the count is pushed onto the stack  \n",
    "\n",
    "2. *Handle \"(\"*  \n",
    "   - when an opening parenthesis is found, a marker \"(\" is pushed onto the stack  \n",
    "   - this marks the beginning of a grouped part of the formula  \n",
    "\n",
    "3. *Handle \")\"* \n",
    "   - when a closing parenthesis is found, the code collects everything from the stack, going backwards, until it reaches \"(\" \n",
    "   - these masses are added together to get the total for the group inside the parentheses  \n",
    "   - the number after the \")\" tells how many times to multiply the group (e.g. 2 in *(OH)2*)  \n",
    "   - the multiplied result is pushed back onto the stack  \n",
    "\n",
    "4. *Finish the formula* \n",
    "   - when the loop ends, the stack contains all the individual contributions  \n",
    "   - adding them together gives the total molecular mass  \n",
    "\n",
    "Example: Ca(OH)2\n",
    "- *Ca* → 40.08 pushed to the stack  \n",
    "- \"(\" pushed as a marker  \n",
    "- *O* → 15.999 pushed  \n",
    "- *H* → 1.008 pushed  \n",
    "- \")\" closes the group → (15.999 + 1.008) × 2 = 34.014 pushed  \n",
    "- Final stack = [40.08, 34.014] → total = 74.094  \n",
    "\n"
   ]
  },
  {
   "cell_type": "markdown",
   "id": "1a94f2ff",
   "metadata": {},
   "source": [
    "Now we can try and make a new function that does the same thing but recursively "
   ]
  },
  {
   "cell_type": "code",
   "execution_count": 31,
   "id": "4fa0b72a",
   "metadata": {},
   "outputs": [
    {
     "name": "stdout",
     "output_type": "stream",
     "text": [
      "H2O: 18.015\n",
      "Ca(OH)2: 74.094\n",
      "C6H12O6: 180.156\n",
      "Mg(OH(CH3)2)2: 118.459\n"
     ]
    }
   ],
   "source": [
    "def molecular_mass_parentheses(formula, i=0):\n",
    "    total_mass = 0\n",
    "\n",
    "    while i < len(formula):\n",
    "        character = formula[i]\n",
    "\n",
    "        \n",
    "        if character == \"(\":\n",
    "            group_mass, i = molecular_mass_parentheses(formula, i + 1)\n",
    "\n",
    "            \n",
    "            num_str = \"\"\n",
    "            while i < len(formula) and formula[i].isdigit():\n",
    "                num_str += formula[i]\n",
    "                i += 1\n",
    "            count = int(num_str) if num_str else 1\n",
    "\n",
    "            total_mass += group_mass * count\n",
    "\n",
    "        \n",
    "        elif character == \")\":\n",
    "            return total_mass, i + 1\n",
    "\n",
    "        \n",
    "        elif character.isupper():\n",
    "            symbol = character\n",
    "            i += 1\n",
    "            if i < len(formula) and formula[i].islower():\n",
    "                symbol += formula[i]\n",
    "                i += 1\n",
    "\n",
    "            \n",
    "            num_str = \"\"\n",
    "            while i < len(formula) and formula[i].isdigit():\n",
    "                num_str += formula[i]\n",
    "                i += 1\n",
    "            count = int(num_str) if num_str else 1\n",
    "\n",
    "            total_mass += element_dict[symbol] * count\n",
    "\n",
    "        else:\n",
    "            i += 1  \n",
    "\n",
    "    return total_mass, i\n",
    "\n",
    "def molecular_mass(formula):\n",
    "    mass, _ = molecular_mass_parentheses(formula, 0)\n",
    "    return mass\n",
    "\n",
    "\n",
    "# Tests\n",
    "print(\"H2O:\", molecular_mass(\"H2O\"))         # ~18\n",
    "print(\"Ca(OH)2:\", molecular_mass(\"Ca(OH)2\"))  # ~74\n",
    "print(\"C6H12O6:\", molecular_mass(\"C6H12O6\"))  # ~180\n",
    "print(\"Mg(OH(CH3)2)2:\", molecular_mass(\"Mg(OH(CH3)2)2\"))\n"
   ]
  },
  {
   "cell_type": "markdown",
   "id": "fb1b13b3",
   "metadata": {},
   "source": [
    "Calculating Molecular Mass with Parentheses (Recursive)\n",
    "\n",
    "* the previous stack-based function worked, but recursion matches parentheses more naturally\n",
    "* when we see an opening parenthesis, we recurse to compute the mass of the inner group\n",
    "* when we hit the closing parenthesis, we return that group’s subtotal to the caller, which then applies any multiplier\n",
    "\n",
    "How it works\n",
    "\n",
    "1. *Read element symbols*\n",
    "\n",
    "   * uppercase (optionally followed by lowercase) forms a symbol (*H*, *O*, *Ca*)\n",
    "   * read digits right after the symbol for the count\n",
    "   * add atomic_mass(symbol) × count to the current subtotal\n",
    "\n",
    "2. *Handle \"(\" with a recursive call*\n",
    "\n",
    "   * upon \"(\", call the same function on the substring that follows\n",
    "   * the recursive call consumes characters until it reaches the matching \")\"\n",
    "   * it returns *(group\\_mass, next\\_index)* to the caller\n",
    "\n",
    "3. *Handle \")\" and apply multiplier*\n",
    "\n",
    "   * when a call encounters \")\", it returns the subtotal computed so far\n",
    "   * the caller then reads digits after the \")\" (e.g., the 2 in *(OH)2*)\n",
    "   * multiply group_mass × multiplier and add it to the caller’s subtotal\n",
    "\n",
    "4. *Finish the formula*\n",
    "\n",
    "   * when the outer call reaches the end of the string, its subtotal is the total molecular mass\n",
    "\n",
    "Example: *Ca(OH)2\n",
    "\n",
    "* read *Ca* → add 40.08\n",
    "* see \"(\" → recurse on OH)\n",
    "\n",
    "  * inside: *O* → 15.999, H → 1.008 → inner subtotal 17.007\n",
    "  * hit \")\" → return 17.007\n",
    "* read multiplier 2 → 17.007 × 2 = 34.014\n",
    "* outer subtotal: 40.08 + 34.014 = 74.094\n"
   ]
  },
  {
   "cell_type": "markdown",
   "id": "3e95a721",
   "metadata": {},
   "source": [
    "The next part of this project is to also take into account formulas with coordinated water. "
   ]
  },
  {
   "cell_type": "code",
   "execution_count": 32,
   "id": "cbaac267",
   "metadata": {},
   "outputs": [
    {
     "name": "stdout",
     "output_type": "stream",
     "text": [
      "CuSO4.5H2O : 249.691\n",
      "CuSO6·12H2O : 407.794\n",
      "C6H4: 76.098\n",
      "Ca(OH)2.5H2O: 164.169\n"
     ]
    }
   ],
   "source": [
    "def molecular_mass_hydrate(formula):\n",
    "    normalized = formula.replace(\"·\", \".\")\n",
    "    parts = normalized.split(\".\")\n",
    "\n",
    "    total = 0\n",
    "    for part in parts:\n",
    "        if not part:  \n",
    "            continue\n",
    "        i = 0\n",
    "        coef_str = \"\"\n",
    "        while i < len(part) and part[i].isdigit():\n",
    "            coef_str += part[i]\n",
    "            i += 1\n",
    "        coef = int(coef_str) if coef_str else 1\n",
    "        rest = part[i:]  \n",
    "        \n",
    "        chunk_mass = molecular_mass_parentheses(rest)\n",
    "        if isinstance(chunk_mass, tuple):   \n",
    "            chunk_mass = chunk_mass[0]\n",
    "\n",
    "\n",
    "        total += coef * float(chunk_mass)   \n",
    "\n",
    "   \n",
    "\n",
    "    return round(total,3)\n",
    "\n",
    "\n",
    "print(\"CuSO4.5H2O :\", molecular_mass_hydrate(\"CuSO4.5H2O\"))\n",
    "print(\"CuSO6·12H2O :\", molecular_mass_hydrate(\"CuSO6·12H2O\"))\n",
    "print(\"C6H4:\", molecular_mass_hydrate(\"C6H4\"))\n",
    "print(\"Ca(OH)2.5H2O:\", molecular_mass_hydrate(\"Ca(OH)2.5H2O\"))\n"
   ]
  },
  {
   "cell_type": "markdown",
   "id": "29ac884b",
   "metadata": {},
   "source": [
    "Calculating Molecular Mass with Hydration Water\n",
    "\n",
    "- some compounds contain **water molecules bound in their structure** (called hydration water),  \n",
    "  for example *CuSO4·5H2O* or *CuSO6·12H2O*  \n",
    "- our previous function handled simple formulas and parentheses, but it could not process the dot (. or ·) notation  \n",
    "- to fix this, the function was extended to split the formula into **parts** separated by a dot  \n",
    "\n",
    "How it works\n",
    "1. *Split into parts*  \n",
    "   - the formula is split wherever a . or · appears  \n",
    "   - for example, *CuSO4·5H2O* becomes [\"CuSO4\", \"5H2O\"]  \n",
    "\n",
    "2. *Read a leading coefficient*  \n",
    "   - if a part starts with a number (like 5H2O), this number is the *multiplier* for that group  \n",
    "   - if no number is present, the multiplier is assumed to be 1  \n",
    "\n",
    "3. *Calculate the mass of each part*  \n",
    "   - each chemical chunk (like *CuSO4* or *H2O*) is sent to the *parentheses-aware function*  \n",
    "   - this returns the molecular mass of that part  \n",
    "\n",
    "4. *Multiply and add to the total*  \n",
    "   - the chunk mass is multiplied by the coefficient (e.g. 5 × H2O)  \n",
    "   - the result is added to the running total  \n",
    "\n",
    "5. *Return the result*  \n",
    "   - after all parts are processed, the function returns the complete molecular mass including hydration water  \n",
    "\n",
    "Example: CuSO6·12H2O\n",
    "- *CuSO6* = 63.55 + 32.07 + (6 × 15.999) = *191.614*  \n",
    "- *12H2O* = 12 × 18.015 = *216.18*  \n",
    "- Total = 191.614 + 216.18 = *407.794 g/mol* \n"
   ]
  },
  {
   "cell_type": "markdown",
   "id": "57758d48",
   "metadata": {},
   "source": [
    "*Code that didn't work*"
   ]
  },
  {
   "cell_type": "code",
   "execution_count": 33,
   "id": "362e7f44",
   "metadata": {},
   "outputs": [
    {
     "ename": "TypeError",
     "evalue": "float() argument must be a string or a real number, not 'tuple'",
     "output_type": "error",
     "traceback": [
      "\u001b[0;31m---------------------------------------------------------------------------\u001b[0m",
      "\u001b[0;31mTypeError\u001b[0m                                 Traceback (most recent call last)",
      "Cell \u001b[0;32mIn[33], line 26\u001b[0m\n\u001b[1;32m     19\u001b[0m         total \u001b[38;5;241m+\u001b[39m\u001b[38;5;241m=\u001b[39m coef \u001b[38;5;241m*\u001b[39m \u001b[38;5;28mfloat\u001b[39m(chunk_mass)   \n\u001b[1;32m     23\u001b[0m     \u001b[38;5;28;01mreturn\u001b[39;00m \u001b[38;5;28mround\u001b[39m(total,\u001b[38;5;241m3\u001b[39m)\n\u001b[0;32m---> 26\u001b[0m \u001b[38;5;28mprint\u001b[39m(\u001b[38;5;124m\"\u001b[39m\u001b[38;5;124mCuSO4.5H2O :\u001b[39m\u001b[38;5;124m\"\u001b[39m, \u001b[43mmolecular_mass_hydrate\u001b[49m\u001b[43m(\u001b[49m\u001b[38;5;124;43m\"\u001b[39;49m\u001b[38;5;124;43mCuSO4.5H2O\u001b[39;49m\u001b[38;5;124;43m\"\u001b[39;49m\u001b[43m)\u001b[49m)\n\u001b[1;32m     27\u001b[0m \u001b[38;5;28mprint\u001b[39m(\u001b[38;5;124m\"\u001b[39m\u001b[38;5;124mCuSO6·12H2O :\u001b[39m\u001b[38;5;124m\"\u001b[39m, molecular_mass_hydrate(\u001b[38;5;124m\"\u001b[39m\u001b[38;5;124mCuSO6·12H2O\u001b[39m\u001b[38;5;124m\"\u001b[39m))\n\u001b[1;32m     28\u001b[0m \u001b[38;5;28mprint\u001b[39m(\u001b[38;5;124m\"\u001b[39m\u001b[38;5;124mC6H4:\u001b[39m\u001b[38;5;124m\"\u001b[39m, molecular_mass_hydrate(\u001b[38;5;124m\"\u001b[39m\u001b[38;5;124mC6H4\u001b[39m\u001b[38;5;124m\"\u001b[39m))\n",
      "Cell \u001b[0;32mIn[33], line 19\u001b[0m, in \u001b[0;36mmolecular_mass_hydrate\u001b[0;34m(formula)\u001b[0m\n\u001b[1;32m     15\u001b[0m     rest \u001b[38;5;241m=\u001b[39m part[i:]  \n\u001b[1;32m     17\u001b[0m     chunk_mass \u001b[38;5;241m=\u001b[39m molecular_mass_parentheses(rest)\n\u001b[0;32m---> 19\u001b[0m     total \u001b[38;5;241m+\u001b[39m\u001b[38;5;241m=\u001b[39m coef \u001b[38;5;241m*\u001b[39m \u001b[38;5;28;43mfloat\u001b[39;49m\u001b[43m(\u001b[49m\u001b[43mchunk_mass\u001b[49m\u001b[43m)\u001b[49m   \n\u001b[1;32m     23\u001b[0m \u001b[38;5;28;01mreturn\u001b[39;00m \u001b[38;5;28mround\u001b[39m(total,\u001b[38;5;241m3\u001b[39m)\n",
      "\u001b[0;31mTypeError\u001b[0m: float() argument must be a string or a real number, not 'tuple'"
     ]
    }
   ],
   "source": [
    "def molecular_mass_hydrate(formula):\n",
    "    normalized = formula.replace(\"·\", \".\")\n",
    "    parts = normalized.split(\".\")\n",
    "\n",
    "    total = 0\n",
    "    for part in parts:\n",
    "        if not part:  \n",
    "            continue\n",
    "        i = 0\n",
    "        coef_str = \"\"\n",
    "        while i < len(part) and part[i].isdigit():\n",
    "            coef_str += part[i]\n",
    "            i += 1\n",
    "        coef = int(coef_str) if coef_str else 1\n",
    "        rest = part[i:]  \n",
    "        \n",
    "        chunk_mass = molecular_mass_parentheses(rest)\n",
    "        \n",
    "        total += coef * float(chunk_mass)   \n",
    "\n",
    "   \n",
    "\n",
    "    return round(total,3)\n",
    "\n",
    "\n",
    "print(\"CuSO4.5H2O :\", molecular_mass_hydrate(\"CuSO4.5H2O\"))\n",
    "print(\"CuSO6·12H2O :\", molecular_mass_hydrate(\"CuSO6·12H2O\"))\n",
    "print(\"C6H4:\", molecular_mass_hydrate(\"C6H4\"))\n",
    "print(\"Ca(OH)2.5H2O:\", molecular_mass_hydrate(\"Ca(OH)2.5H2O\"))\n"
   ]
  },
  {
   "cell_type": "markdown",
   "id": "550803c8",
   "metadata": {},
   "source": [
    "\n",
    "In the initial attempt, the function written produced an error message saying that the operation `+=` was unsupported between an integer and a tuple. The reason for this is that it was assumed that the helper function would always return a single numeric value representing the molecular mass. In reality, it sometimes returned a tuple, typically containing two values: the calculated mass and the parsing position in the formula.\n",
    "\n",
    "Because of this, when trying to add the result directly to the running total, Python was effectively trying to add a number to a tuple, which is not a valid operation. This mismatch between expected output (a number) and actual output (a tuple) caused the program to crash.\n",
    "\n",
    "**Solution**\n",
    "\n",
    "To solve this, only the numeric part of the result was extracted. It was  checked if the returned value was a tuple, and if so, only its first element was taken , which contained the actual molecular mass. By doing this, the calculation became consistent: a number was always being added to another number. \n",
    "\n",
    "This small adjustment ensured that the total accumulated correctly, and the program no longer produced a type error.\n"
   ]
  },
  {
   "cell_type": "markdown",
   "id": "39aec574",
   "metadata": {},
   "source": [
    "***PART B - STOECHIOMETRY AND REACTION BALANCING***"
   ]
  },
  {
   "cell_type": "code",
   "execution_count": 34,
   "id": "fa02744f",
   "metadata": {},
   "outputs": [
    {
     "name": "stdout",
     "output_type": "stream",
     "text": [
      "Test 1: H2 + O2 → H2O\n",
      "Reactants:\n",
      "2 × H2\n",
      "1 × O2\n",
      "Products:\n",
      "2 × H2O\n",
      "------------------------------\n",
      "Test 2: CH4 + O2 → CO2 + H2O\n",
      "Reactants:\n",
      "1 × CH4\n",
      "2 × O2\n",
      "Products:\n",
      "1 × CO2\n",
      "2 × H2O\n",
      "------------------------------\n",
      "Test 3: CaO2H2 + H2SO4 → CaSO4 + H2O\n",
      "Reactants:\n",
      "1 × CaO2H2\n",
      "1 × H2SO4\n",
      "Products:\n",
      "1 × CaSO4\n",
      "2 × H2O\n"
     ]
    }
   ],
   "source": [
    "import re\n",
    "import numpy as np\n",
    "from fractions import Fraction\n",
    "from math import gcd\n",
    "from functools import reduce\n",
    "def formula_in_dict(formula:str)-> dict:\n",
    "    element_pattern = r\"([A-Z][a-z]*)\"\n",
    "    number_pattern = r\"(\\d*)\"\n",
    "    pattern = element_pattern + number_pattern\n",
    "    counts = {}\n",
    "    for (element, count) in re.findall(pattern, formula):\n",
    "        if count == \"\":\n",
    "            count = 1\n",
    "        else:\n",
    "            count = int(count)\n",
    "        if element in counts:\n",
    "            counts[element] += count\n",
    "        else:\n",
    "            counts[element] = count\n",
    "    return counts\n",
    "\n",
    "\n",
    "def balance_reaction(reactants: list, products: list) -> list:\n",
    "    all_species = reactants + products\n",
    "    composition_dicts = [formula_in_dict(f) for f in all_species]\n",
    "    all_elements = set()\n",
    "    for composition_dict in composition_dicts:\n",
    "        for elem in composition_dict.keys():\n",
    "            all_elements.add(elem)\n",
    "    elements = sorted(all_elements)\n",
    "\n",
    "    matrix = []\n",
    "    for elem in elements:\n",
    "        row = []\n",
    "        for mol_dict in composition_dicts:\n",
    "             row.append(mol_dict.get(elem, 0))\n",
    "        for i in range(len(reactants), len(all_species)):\n",
    "            row[i] *= -1\n",
    "        matrix.append(row)\n",
    "\n",
    "    A = np.array(matrix, dtype=float)\n",
    "    u, s, vh = np.linalg.svd(A)\n",
    "    vec = vh[-1]\n",
    "    #tol = 1e-10\n",
    "    non_zero_vals = vec[np.abs(vec) !=0]  #> tol\n",
    "    min_val = np.min(np.abs(non_zero_vals)) \n",
    "    vec_scaled = vec / min_val\n",
    "    coeffs_frac = [Fraction(c).limit_denominator() for c in vec_scaled]\n",
    "    denominators = [f.denominator for f in coeffs_frac]\n",
    "    def lcm(a,b): return abs(a*b)//gcd(a,b)\n",
    "    lcm_total = reduce(lcm, denominators, 1)\n",
    "    coeffs_int = [int(f * lcm_total) for f in coeffs_frac]\n",
    "\n",
    "   \n",
    "\n",
    "    non_zero_ints = [abs(x) for x in coeffs_int if x != 0]\n",
    "    pgcd_total = reduce(gcd, non_zero_ints)\n",
    "    coeffs_final = [x // pgcd_total for x in coeffs_int]\n",
    "\n",
    "    if any(x < 0 for x in coeffs_final):\n",
    "        coeffs_final = [-x for x in coeffs_final]\n",
    "\n",
    "\n",
    "    return coeffs_final[:len(reactants)], coeffs_final[len(reactants):]\n",
    "\n",
    "# Test 1 \n",
    "reactants1 = [\"H2\", \"O2\"]\n",
    "products1 = [\"H2O\"]\n",
    "coeffs_reac1, coeffs_prod1 = balance_reaction(reactants1, products1)\n",
    "\n",
    "print(\"Test 1: H2 + O2 → H2O\")\n",
    "print(\"Reactants:\")\n",
    "for mol, coef in zip(reactants1, coeffs_reac1):\n",
    "    print(f\"{coef} × {mol}\")\n",
    "print(\"Products:\")\n",
    "for mol, coef in zip(products1, coeffs_prod1):\n",
    "    print(f\"{coef} × {mol}\")\n",
    "print(\"-\"*30)\n",
    "\n",
    "# Test 2 \n",
    "reactants2 = [\"CH4\", \"O2\"]\n",
    "products2 = [\"CO2\", \"H2O\"]\n",
    "coeffs_reac2, coeffs_prod2 = balance_reaction(reactants2, products2)\n",
    "\n",
    "print(\"Test 2: CH4 + O2 → CO2 + H2O\")\n",
    "print(\"Reactants:\")\n",
    "for mol, coef in zip(reactants2, coeffs_reac2):\n",
    "    print(f\"{coef} × {mol}\")\n",
    "print(\"Products:\")\n",
    "for mol, coef in zip(products2, coeffs_prod2):\n",
    "    print(f\"{coef} × {mol}\")\n",
    "print(\"-\"*30)\n",
    "\n",
    "# Test 3 \n",
    "reactants3 = [\"CaO2H2\", \"H2SO4\"]\n",
    "products3 = [\"CaSO4\", \"H2O\"]\n",
    "coeffs_reac3, coeffs_prod3 = balance_reaction(reactants3, products3)\n",
    "\n",
    "print(\"Test 3: CaO2H2 + H2SO4 → CaSO4 + H2O\")\n",
    "print(\"Reactants:\")\n",
    "for mol, coef in zip(reactants3, coeffs_reac3):\n",
    "    print(f\"{coef} × {mol}\")\n",
    "print(\"Products:\")\n",
    "for mol, coef in zip(products3, coeffs_prod3):\n",
    "    print(f\"{coef} × {mol}\")\n",
    "\n",
    "\n",
    "\n",
    "#print(balance_reaction([\"CaO2H2\", \"H2SO4\"], [\"CaSO4\", \"H2O\"]))\n",
    "\n",
    "\n"
   ]
  },
  {
   "cell_type": "markdown",
   "id": "5a043c0e",
   "metadata": {},
   "source": [
    "## *Chemical Reaction Balancing – Function Explanations*\n",
    "\n",
    "*`formula_in_dict` Function*\n",
    "\n",
    "**Purpose:**  \n",
    "Convert a simple chemical formula into a dictionary `{symbol: count}`.  \n",
    "\n",
    "**Limitations:**  \n",
    "- Cannot handle formulas with parentheses (e.g., `Ca(OH)2`) or hydration dots (e.g., `CuSO4·5H2O`).  \n",
    "\n",
    "**How it works:**  \n",
    "1. `element_pattern` captures the chemical symbol by looking for an uppercase letter followed optionally by a lowercase letter (e.g., `H`, `He`, `Ca`).  \n",
    "2. `number_pattern` captures the number of atoms following the element.  \n",
    "3. If no number is present, it defaults to `1`.  \n",
    "4. The function returns a dictionary where keys are element symbols and values are their counts.  \n",
    "\n",
    "**Example:**  \n",
    "```python\n",
    "formula_in_dict(\"H2O\")  # returns {\"H\": 2, \"O\": 1}\n"
   ]
  },
  {
   "cell_type": "markdown",
   "id": "28c58952",
   "metadata": {},
   "source": [
    "*`balance_reaction` Function*\n",
    "\n",
    "**Purpose:**  \n",
    "Prepare the data for constructing the atom conservation matrix and calculate stoichiometric coefficients.\n",
    "\n",
    "**How it works:**  \n",
    "1. Receives two lists: one for reactants and one for products.  \n",
    "2. Creates a list of all unique elements present in the reaction.  \n",
    "3. Builds a matrix where:  \n",
    "   - Each **row** corresponds to an element.  \n",
    "   - Each **column** corresponds to a molecule.  \n",
    "   - **Columns corresponding to products are negated** to reflect atom conservation.\n",
    "\n",
    "**Example:**  \n",
    "For the reaction `H2 + O2 → H2O`, the matrix `A` looks like:\n",
    "\n",
    "H : [ 2, 0, -2] \n",
    "\n",
    "O : [ 0, 2, -1]\n",
    "\n",
    "#### Mathematical Solution in `balance_reaction`\n",
    "\n",
    "**Goal:**  \n",
    "Find a non-zero vector `x` such that `A · x = 0` (stoichiometric coefficients).\n",
    "\n",
    "**Method:**  \n",
    "- Use **Singular Value Decomposition (SVD)** with `np.linalg.svd` to find a basis of solutions.  \n",
    "- The vector associated with the **smallest singular value** (`vh[-1]`) gives a solution.\n",
    "\n",
    "**Normalization:**  \n",
    "1. Convert the solution to **fractions** to avoid floating-point errors.  \n",
    "2. Multiply by the **least common multiple (LCM)** of denominators to get integer coefficients.  \n",
    "3. Divide by the **greatest common divisor (GCD)** to simplify the coefficients.\n",
    "\n",
    "**Return values:**  \n",
    "- Separate the coefficients of **reactants** and **products**.\n"
   ]
  },
  {
   "cell_type": "code",
   "execution_count": 35,
   "id": "31d4cd59",
   "metadata": {},
   "outputs": [
    {
     "name": "stdout",
     "output_type": "stream",
     "text": [
      "✅ Mass balanced\n"
     ]
    },
    {
     "data": {
      "text/plain": [
       "True"
      ]
     },
     "execution_count": 35,
     "metadata": {},
     "output_type": "execute_result"
    }
   ],
   "source": [
    "\n",
    "def check_mass_conservation(reactants, products, coeffs_reac, coeffs_prod):\n",
    "    total_reactants = sum(\n",
    "        coeffs_reac[i] * molecular_mass(reactants[i]) for i in range(len(reactants))\n",
    "    )\n",
    "    total_products = sum(\n",
    "        coeffs_prod[i] * molecular_mass(products[i]) for i in range(len(products))\n",
    "    )\n",
    "    if abs(total_reactants - total_products) < 1e-10:\n",
    "        print(f\"✅ Mass balanced\")\n",
    "        return True\n",
    "    else:\n",
    "        print(f\"❌ Mass not balanced\")\n",
    "        return False\n",
    "\n",
    "\n",
    "# Test\n",
    "reactants = [\"CaO2H2\", \"H2SO4\"]\n",
    "products = [\"CaSO4\", \"H2O\"]\n",
    "\n",
    "coeffs_reac, coeffs_prod = balance_reaction(reactants, products)\n",
    "check_mass_conservation(reactants, products, coeffs_reac, coeffs_prod)\n",
    "\n"
   ]
  },
  {
   "cell_type": "markdown",
   "id": "1d381a5b",
   "metadata": {},
   "source": [
    "*`check_mass_conservation` Function*\n",
    "\n",
    "**Purpose:**  \n",
    "Verify whether the total mass of reactants equals the total mass of products after balancing a chemical reaction.  \n",
    "\n",
    "**How it works:**  \n",
    "1. For each reactant, the function multiplies its stoichiometric coefficient (`coeffs_reac[i]`) by its molecular mass (`molecular_mass`).\n",
    "2. The same procedure is performed for the products with their coefficients (`coeffs_prod[i]`).\n",
    "3. The total mass of the reactants and products is calculated by adding these values.\n",
    "4. The two totals are compared:\n",
    "- Instead of checking for strict equality (which can fail due to floating-point rounding errors), the function checks whether the difference is less than a small tolerance (`1e-10`).\n",
    "- This ensures that tiny numerical errors do not result in a false imbalance.\n",
    "5. A message is displayed if the mass is balanced and returns \"True\" or \"False\".\n",
    "\n",
    "**Example:**  \n",
    "```python\n",
    "reactants = [\"CaO2H2\", \"H2SO4\"]\n",
    "products = [\"CaSO4\", \"H2O\"]\n",
    "\n",
    "coeffs_reac, coeffs_prod = balance_reaction(reactants, products)\n",
    "check_mass_conservation(reactants, products, coeffs_reac, coeffs_prod)\n",
    "# Output: ✅ Mass balanced\n"
   ]
  },
  {
   "cell_type": "markdown",
   "id": "8c882ad6",
   "metadata": {},
   "source": [
    "***PART C - SIMULATION AND MODELING***\n",
    "\n",
    "***C.1 Monte Carlo π estimation*** \n",
    "\n",
    "The idea is to implement a function `estimate_pi(N)` that samples `N` points uniformly in the square [-1, 1] × [-1, 1], counts how many fall inside the unit circle, and returns the estimate of π.\n",
    "\n"
   ]
  },
  {
   "cell_type": "code",
   "execution_count": 36,
   "id": "f9369a36",
   "metadata": {},
   "outputs": [],
   "source": [
    "\n",
    "import numpy as np\n",
    "import matplotlib.pyplot as plt\n",
    "\n",
    "def estimate_pi(N: int, rng=None) -> float:\n",
    "    if rng is None:\n",
    "        rng = np.random.default_rng()\n",
    "    x = rng.uniform(-1, 1, size=N)\n",
    "    y = rng.uniform(-1, 1, size=N)\n",
    "    inside = (x*x + y*y) <= 1\n",
    "    return 4.0 * inside.mean()\n",
    "\n"
   ]
  },
  {
   "cell_type": "code",
   "execution_count": 37,
   "id": "3c95eb9f",
   "metadata": {},
   "outputs": [
    {
     "name": "stdout",
     "output_type": "stream",
     "text": [
      "100 3.16\n",
      "1000 3.096\n",
      "10000 3.1584\n",
      "100000 3.14288\n"
     ]
    }
   ],
   "source": [
    "for N in [100, 1000, 10000, 100000]:\n",
    "    print(N, estimate_pi(N))"
   ]
  },
  {
   "cell_type": "markdown",
   "id": "64dc775c",
   "metadata": {},
   "source": [
    "***Estimating π with Monte Carlo***\n",
    "\n",
    "A function `estimate_pi(N, rng=None)` was written that uses random sampling to approximate the value of π.\n",
    "\n",
    "- The function takes the number of random points `N` as input.  \n",
    "- It generates points uniformly inside the square [-1, 1] × [-1, 1].  \n",
    "- It counts how many of these points fall inside the unit circle (radius 1).  \n",
    "- The fraction of points inside is used to approximate π.\n",
    "\n",
    "\n",
    "*Step 1: Initialize the random generator*\n",
    "- If no random generator is provided (`rng=None`), the default numpy random generator is created with `np.random.default_rng()`.\n",
    "\n",
    "*Step 2: Generate random points*\n",
    "- Two arrays of length `N` are created:  \n",
    "  - `x` → random values uniformly distributed between -1 and 1.  \n",
    "  - `y` → random values uniformly distributed between -1 and 1.\n",
    "\n",
    "*Step 3: Check which points are inside the circle*\n",
    "- A boolean mask `inside` is created, where each entry is `True` if the condition  \n",
    "  $x^2 + y^2 \\leq 1$  holds (the point lies inside or on the circle), and `False` otherwise.\n",
    "\n",
    "\n",
    "*Step 4: Estimate π*\n",
    "- The mean of `inside` gives the fraction of points inside the circle.  \n",
    "- This fraction is multiplied by 4 to estimate π, because the area of the square is 4 and the area of the circle is π.  \n",
    "- The function returns this estimate as a float.\n",
    "\n",
    "*Final Step: Return the result*\n",
    "- The function outputs the Monte Carlo estimate of π.\n"
   ]
  },
  {
   "cell_type": "code",
   "execution_count": 38,
   "id": "6d76d876",
   "metadata": {},
   "outputs": [
    {
     "data": {
      "image/png": "[encoded data removed]",
      "text/plain": [
       "<Figure size 600x400 with 1 Axes>"
      ]
     },
     "metadata": {},
     "output_type": "display_data"
    }
   ],
   "source": [
    "Ns = [100, 300, 1000, 3000, 10000, 30000, 100000, 300000]\n",
    "pi_estimates = [estimate_pi(N) for N in Ns]\n",
    "\n",
    "plt.figure(figsize=(6,4))\n",
    "plt.plot(Ns, pi_estimates, marker='o', label='Monte Carlo estimate')\n",
    "plt.axhline(np.pi, color='r', linestyle='--', label='True π')\n",
    "plt.xscale('log')\n",
    "plt.xlabel('Number of samples N (log scale)')\n",
    "plt.ylabel('Estimated π')\n",
    "plt.title('Monte Carlo π estimation convergence')\n",
    "plt.legend()\n",
    "plt.show()"
   ]
  },
  {
   "cell_type": "markdown",
   "id": "5803f74c",
   "metadata": {},
   "source": [
    "***Plotting the Convergence of the π Estimate***\n",
    "\n",
    "This code plots how the Monte Carlo estimate of π improves as the number of samples `N` increases.\n",
    "\n",
    "\n",
    "*Step 1: Define the sample sizes*\n",
    "- A list `Ns` is created with different values of N (100, 300, 1000, 3000, 10000, 30000, 100000, 300000).  \n",
    "- These represent the number of random points used in the Monte Carlo simulation.\n",
    "\n",
    "*Step 2: Compute the estimates*\n",
    "- For each value of N, the function `estimate_pi(N)` is called.  \n",
    "- The results are stored in the list `pi_estimates`.\n",
    "\n",
    "*Step 3: Create the plot*\n",
    "- A new figure of size (6,4) is created.  \n",
    "- The estimates are plotted as blue points connected with lines (`marker='o'`, label = \"Monte Carlo estimate\").  \n",
    "- A horizontal dashed red line is added at the true value of π (`np.pi`) for comparison.\n",
    "\n",
    "*Step 4: Adjust the axes and labels*\n",
    "- The x-axis is set to a logarithmic scale (`plt.xscale('log')`) to better visualize the wide range of N values.  \n",
    "- Labels for the x-axis (\"Number of samples N (log scale)\") and y-axis (\"Estimated π\") are added.  \n",
    "- A title is added to describe the plot (\"Monte Carlo π estimation convergence\").  \n",
    "- A legend is included to distinguish between the estimate and the true value.\n",
    "\n",
    "*Final Step: Display the plot*\n",
    "- The plot is shown with `plt.show()`.  \n",
    "- The resulting graph demonstrates how the estimate of π converges toward the true value as N increases.\n"
   ]
  },
  {
   "cell_type": "markdown",
   "id": "f350865c",
   "metadata": {},
   "source": [
    "\n",
    "***C.1 – Discussion***\n",
    "\n",
    "The convergence plot shows that the Monte Carlo estimate of π fluctuates a lot for small values of N. This is because random noise dominates when the number of samples is low, which leads to large deviations from the true value. At N = 1000–3000, the estimate can overshoot or undershoot π significantly.\n",
    "\n",
    "As N increases, the estimates stabilize and approach the true value of π. This is an illustration of the Law of Large Numbers: as the number of random samples grows, the average result converges to the expected probability.\n",
    "\n",
    "The error decreases approximately as $1/\\sqrt{N}$, meaning that to improve precision by one decimal place, about 100 times more samples are needed. This trade-off highlights both the power and the cost of Monte Carlo methods: they are easy to implement and generalize, but require many samples for high accuracy.\n",
    "\n",
    "\n"
   ]
  },
  {
   "cell_type": "markdown",
   "id": "4e22c879",
   "metadata": {},
   "source": [
    "***C.2 Chemistry-inspired Monte Carlo***\n",
    "\n",
    "Now the goal is to simulate random molecular collisions in a box, assign energies (from a chosen distribution), and estimate the **reaction probability** as the fraction of collisions exceed a threshold energy.\n"
   ]
  },
  {
   "cell_type": "markdown",
   "id": "92887fc0",
   "metadata": {},
   "source": [
    "IMPORTS "
   ]
  },
  {
   "cell_type": "code",
   "execution_count": 39,
   "id": "b0ca8943",
   "metadata": {},
   "outputs": [],
   "source": [
    "import numpy as np\n",
    "import matplotlib.pyplot as plt"
   ]
  },
  {
   "cell_type": "markdown",
   "id": "276cce70",
   "metadata": {},
   "source": [
    "***Function: simulate_collision_energies***\n",
    "\n",
    "simulate_collision_energies(M, dist, rng, **kwargs) generates an array of M random collision energies using a chosen distribution (exponential, uniform, or normal). The parameters for that distribution are passed (e.g., scale for exponential), and values from the normal are clipped at 0 so energies they stay non-negative. If a random generator is provided (rng=np.random.default_rng(seed)), the draw is reproducible."
   ]
  },
  {
   "cell_type": "code",
   "execution_count": 41,
   "id": "d3b51931",
   "metadata": {},
   "outputs": [],
   "source": [
    "\n",
    "def simulate_collision_energies(M: int, dist: str = 'normal', rng=None, **kwargs) -> np.ndarray:\n",
    "   \n",
    "    if rng is None:\n",
    "        rng = np.random.default_rng()\n",
    "\n",
    "    if dist == \"exponential\":\n",
    "        scale = kwargs.get(\"scale\", 2.0)\n",
    "        E = rng.exponential(scale, size=M)\n",
    "\n",
    "    elif dist == \"uniform\":\n",
    "        low  = kwargs.get(\"low\", 0.0)\n",
    "        high = kwargs.get(\"high\", 10.0)\n",
    "        E = rng.uniform(low, high, size=M)\n",
    "\n",
    "    elif dist == \"normal\":\n",
    "        mean = kwargs.get(\"mean\", 5.0)\n",
    "        std  = kwargs.get(\"std\",  2.0)\n",
    "        E = rng.normal(mean, std, size=M)\n",
    "        E = np.clip(E, 0.0, None)  # energies must be non-negative\n",
    "\n",
    "    else:\n",
    "        raise ValueError(\"dist must be one of: 'exponential', 'uniform', 'normal'.\")\n",
    "\n",
    "    return E"
   ]
  },
  {
   "cell_type": "markdown",
   "id": "496de285",
   "metadata": {},
   "source": [
    "***Function reaction_probability*** \n",
    "\n",
    "**Reaction probability** estimates reaction probability as fraction of energies $\\geq$ $E_{thresh}$.\n",
    "Given energies $E_1,\\dots,E_M$ and a threshold $E_{\\text{th}}$,\n",
    "\n",
    "$$\n",
    "\\hat{p}\n",
    "= \\frac{\\#\\{\\,i:\\; E_i \\ge E_{\\text{th}}\\,\\}}{M}\n",
    "= \\frac{1}{M}\\sum_{i=1}^M \\mathbf{1}\\{E_i \\ge E_{\\text{th}}\\}.\n",
    "$$\n",
    "\n",
    "\n"
   ]
  },
  {
   "cell_type": "code",
   "execution_count": 42,
   "id": "c99ed3e4",
   "metadata": {},
   "outputs": [],
   "source": [
    "\n",
    "def reaction_probability(energies: np.ndarray, E_thresh: float) -> float:\n",
    "\n",
    "    return float(np.count_nonzero(energies >= E_thresh)) / energies.size"
   ]
  },
  {
   "cell_type": "markdown",
   "id": "3a0ad8cf",
   "metadata": {},
   "source": [
    "***Function binom_ci_95***\n",
    "\n",
    "**95% confidence interval for a binomial proportion.(normal approximation).**\n",
    "With $n$ trials and estimate $\\hat p$,\n",
    "\n",
    "$$\n",
    "\\mathrm{SE}\n",
    "= \\sqrt{\\frac{\\hat p(1-\\hat p)}{n}}, \\qquad\n",
    "\\text{CI}_{95\\%}\n",
    "= \\hat p \\pm 1.96\\,\\mathrm{SE}\n",
    "= \\hat p \\pm 1.96 \\sqrt{\\frac{\\hat p(1-\\hat p)}{n}}.\n",
    "$$\n",
    "\n"
   ]
  },
  {
   "cell_type": "code",
   "execution_count": 43,
   "id": "cfdb0c52",
   "metadata": {},
   "outputs": [],
   "source": [
    "def binom_ci_95(p_hat: float, n: int):\n",
    "\n",
    "    se = np.sqrt(max(p_hat*(1 - p_hat), 1e-12) / n)\n",
    "    return (p_hat - 1.96*se, p_hat + 1.96*se)"
   ]
  },
  {
   "cell_type": "code",
   "execution_count": 44,
   "id": "6c36ce8b",
   "metadata": {},
   "outputs": [
    {
     "name": "stdout",
     "output_type": "stream",
     "text": [
      "p_hat = 0.6721  (95% CI: [0.6692, 0.6750])\n"
     ]
    },
    {
     "data": {
      "image/png": "[encoded data removed]",
      "text/plain": [
       "<Figure size 600x400 with 1 Axes>"
      ]
     },
     "metadata": {},
     "output_type": "display_data"
    },
    {
     "data": {
      "image/png": "[encoded data removed]",
      "text/plain": [
       "<Figure size 600x400 with 1 Axes>"
      ]
     },
     "metadata": {},
     "output_type": "display_data"
    }
   ],
   "source": [
    "# C.2 – Example experiment template \n",
    "M = 100_000  # number of collisions\n",
    "E_thresh = 1.2\n",
    "\n",
    "dist = \"exponential\"          # pick family: \"exponential\"/\"uniform\"/\"normal\"\n",
    "dist_params = dict(scale=3.0) # parameters for that family (here: mean=3.0)\n",
    "# alternatives:\n",
    "# dist_params = dict(low=0.0, high=12.0)\n",
    "# dist_params = dict(mean=5.0, std=2.0)\n",
    "\n",
    "rng = np.random.default_rng(42)                           # fixed seed = reproducible\n",
    "E = simulate_collision_energies(M, dist=dist, rng=rng, **dist_params)\n",
    "\n",
    "# estimate probability + CI\n",
    "p_hat = reaction_probability(E, E_thresh)                 # fraction ≥ threshold\n",
    "ci = binom_ci_95(p_hat, M)                                # 95% CI\n",
    "print(f\"p_hat = {p_hat:.4f}  (95% CI: [{ci[0]:.4f}, {ci[1]:.4f}])\")\n",
    "\n",
    "# Plot histogram of energies\n",
    "\n",
    "plt.figure(figsize=(6,4))                                 # create figure\n",
    "plt.hist(E, bins=60, density=True)                        # normalized histogram\n",
    "plt.axvline(E_thresh, linestyle=\"--\", label=f\"Threshold = {E_thresh}\")  # vertical line\n",
    "plt.xlabel(\"Collision energy\")\n",
    "plt.ylabel(\"Density\")\n",
    "plt.title(f\"Energy distribution ({dist})\")\n",
    "plt.legend()\n",
    "plt.show()  \n",
    "\n",
    "# Add a sweep over E_thresh and plot probability vs threshold\n",
    "\n",
    "E_thresh_values = np.linspace(0.0, 12.0, 50)   # 50 thresholds from 0 to 12\n",
    "\n",
    "p_vals = []\n",
    "for thr in E_thresh_values:\n",
    "    p_vals.append(reaction_probability(E, thr))  # reuse same energies; vary threshold\n",
    "\n",
    "plt.figure(figsize=(6,4))\n",
    "plt.plot(E_thresh_values, p_vals, marker=\"o\")    # probability curve\n",
    "plt.xlabel(\"Threshold energy $E_{th}$\")\n",
    "plt.ylabel(\"Estimated reaction probability\")\n",
    "plt.title(\"Reaction probability vs. threshold\")\n",
    "plt.grid(True, alpha=0.3)\n",
    "plt.show()"
   ]
  },
  {
   "cell_type": "markdown",
   "id": "2e001bd7",
   "metadata": {},
   "source": [
    "***C.2 – Discussion***\n",
    "\n",
    "* **Model.** Each collision gets an energy $E$ from the chosen distribution (we used *exponential* with mean = 3 unless noted).\n",
    "* **Reaction criterion.** Reaction occurs if $E \\ge E_{th}$. The estimator is $\\hat p = k/M$ with $k$ successes.\n",
    "* **Uncertainty.** Approximate 95% CI: $\\hat p \\pm 1.96\\sqrt{\\hat p(1-\\hat p)/M}$.\n",
    "* **Observations.** As $M$ increases, variance shrinks and $\\hat p$ stabilizes. Increasing $E_{th}$ lowers the reaction probability; the curve’s shape depends on the assumed energy distribution (physics intuition: higher activation energy → rarer events).\n",
    "* **Chemistry link.** This mirrors the idea of activation energy: at fixed temperature (energy distribution), only a fraction of collisions have enough energy to react.\n"
   ]
  }
 ],
 "metadata": {
  "kernelspec": {
   "display_name": "cyp",
   "language": "python",
   "name": "python3"
  },
  "language_info": {
   "codemirror_mode": {
    "name": "ipython",
    "version": 3
   },
   "file_extension": ".py",
   "mimetype": "text/x-python",
   "name": "python",
   "nbconvert_exporter": "python",
   "pygments_lexer": "ipython3",
   "version": "3.10.16"
  }
 },
 "nbformat": 4,
 "nbformat_minor": 5
}
