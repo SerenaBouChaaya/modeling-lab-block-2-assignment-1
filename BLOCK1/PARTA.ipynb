{
 "cells": [
  {
   "cell_type": "markdown",
   "metadata": {},
   "source": [
    "### COMPUTATIONAL CARPETNARY PROJECT"
   ]
  },
  {
   "cell_type": "markdown",
   "metadata": {},
   "source": [
    "***PART A - DATA STRUCTURES AND FUNCTIONS***"
   ]
  },
  {
   "cell_type": "markdown",
   "metadata": {},
   "source": [
    "Creating a dictionnary of elements and atomic masses "
   ]
  },
  {
   "cell_type": "code",
   "execution_count": 3,
   "metadata": {},
   "outputs": [
    {
     "name": "stdout",
     "output_type": "stream",
     "text": [
      "H : 1.008\n",
      "He : 4.0026\n",
      "Li : 7.0\n",
      "Be : 9.012183\n",
      "B : 10.81\n",
      "C : 12.011\n",
      "N : 14.007\n",
      "O : 15.999\n",
      "F : 18.99840316\n",
      "Ne : 20.18\n"
     ]
    }
   ],
   "source": [
    "import pandas as pd\n",
    "df = pd.read_csv(\"periodic_table.csv\")\n",
    "\n",
    "element_dict={}\n",
    "\n",
    "for index, row in df.iterrows():\n",
    "    symbol= row[\"Symbol\"]\n",
    "    mass =row[\"AtomicMass\"]\n",
    "    element_dict[symbol]=mass\n",
    "\n",
    "#check it works \n",
    "for symbol in list(element_dict.keys())[:10]:\n",
    "    print(symbol,\":\",element_dict[symbol])"
   ]
  },
  {
   "cell_type": "markdown",
   "metadata": {},
   "source": [
    "- the csv file of the periodic table was loaded and from this an empty dictionnary was created\n",
    "- by iterating over the rows of the dataframe, the element **symbol** as the key and the **atomic mass** as the value \n",
    "- this yielded a dictionnary that maps each element symbol to its atomic mass \n",
    "\n",
    "\n",
    "\n"
   ]
  },
  {
   "cell_type": "markdown",
   "metadata": {},
   "source": [
    "Now the goal is to write a function that takes chemcial formulas and returns the molecular mass "
   ]
  },
  {
   "cell_type": "code",
   "execution_count": 9,
   "metadata": {},
   "outputs": [
    {
     "name": "stdout",
     "output_type": "stream",
     "text": [
      "H2O : 18.015\n",
      "He : 4.0026\n",
      "C6H12O6: 180.156\n"
     ]
    }
   ],
   "source": [
    "def molecular_mass(formula):\n",
    "    total_mass = 0\n",
    "    i = 0\n",
    "    while i < len(formula):\n",
    "        symbol = formula[i]\n",
    "        i += 1\n",
    "\n",
    "        if i < len(formula) and formula[i].islower():\n",
    "            symbol += formula[i]\n",
    "            i += 1  \n",
    "\n",
    "        num_str = \"\"\n",
    "        while i < len(formula) and formula[i].isdigit():\n",
    "            num_str += formula[i]\n",
    "            i += 1\n",
    "        count = int(num_str) if num_str else 1\n",
    "\n",
    "        \n",
    "        total_mass += element_dict[symbol] * count\n",
    "\n",
    "    return total_mass\n",
    "\n",
    "\n",
    "#check it works \n",
    "print(\"H2O :\", molecular_mass(\"H2O\"))     # ~18.015\n",
    "print(\"He :\", molecular_mass(\"He\"))      # ~4.0026\n",
    "print(\"C6H12O6:\", molecular_mass(\"C6H12O6\")) # ~180.156\n"
   ]
  },
  {
   "cell_type": "markdown",
   "metadata": {},
   "source": [
    "Calculating the Molecular Mass of a Formula\n",
    "\n",
    "- a function molecular_mass(formula) was written that takes a chemical formula (e.g. \"H2O\") as input  \n",
    "- inside the function, a variable total_mass is created and set to 0 → this will store the running sum of the molecular mass  \n",
    "- a while loop goes through the formula one character at a time using an index i \n",
    "\n",
    "*Step 1: Identify the element symbol*\n",
    "- the first character is always an uppercase letter (like \"H\" in \"H2O\", or \"C\" in \"CO2\")  \n",
    "- if the next character is a lowercase letter, it is added to the symbol (so \"He\" or \"Na\" are treated as one element)  \n",
    "\n",
    "*Step 2: Find how many atoms of that element are present*\n",
    "- the code then looks for digits following the symbol (e.g. 2 in \"H2O\" or 12 in \"C6H12O6\")  \n",
    "- if digits are found, they are combined into a number → this is the **count of atoms**  \n",
    "- if no number is found, the count defaults to 1 \n",
    "\n",
    "*Step 3: Look up the atomic mass*\n",
    "- using the dictionary (element_dict), the atomic mass for the element symbol is found  \n",
    "- the atomic mass is multiplied by the count of atoms  \n",
    "\n",
    "*Step 4: Add to the total mass*\n",
    "- the result for that element is added to total_mass  \n",
    "- the loop continues until the whole formula has been processed  \n",
    "\n",
    "*Final Step: Return the result*\n",
    "- once the loop ends, the function returns total_mass → the total molecular mass of the formula  \n",
    "\n",
    "---\n",
    "\n",
    "*Example with \"H2O\"*\n",
    "- Symbol = \"H\", Count = 2 → mass = 2 × 1.008 = 2.016  \n",
    "- Symbol = \"O\", Count = 1 → mass = 1 × 15.999 = 15.999  \n",
    "- **Total = 18.015**  \n"
   ]
  },
  {
   "cell_type": "markdown",
   "metadata": {},
   "source": [
    "Now the idea is to extend the code for the mass calculator to be able to deal with parenthesis in the brute formula"
   ]
  },
  {
   "cell_type": "code",
   "execution_count": 2,
   "metadata": {},
   "outputs": [
    {
     "ename": "NameError",
     "evalue": "name 'element_dict' is not defined",
     "output_type": "error",
     "traceback": [
      "\u001b[0;31m---------------------------------------------------------------------------\u001b[0m",
      "\u001b[0;31mNameError\u001b[0m                                 Traceback (most recent call last)",
      "Cell \u001b[0;32mIn[2], line 51\u001b[0m\n\u001b[1;32m     47\u001b[0m             i \u001b[38;5;241m+\u001b[39m\u001b[38;5;241m=\u001b[39m \u001b[38;5;241m1\u001b[39m  \u001b[38;5;66;03m# skip unexpected\u001b[39;00m\n\u001b[1;32m     49\u001b[0m     \u001b[38;5;28;01mreturn\u001b[39;00m \u001b[38;5;28msum\u001b[39m(partial)\n\u001b[0;32m---> 51\u001b[0m \u001b[38;5;28mprint\u001b[39m(\u001b[38;5;124m\"\u001b[39m\u001b[38;5;124mH2O:\u001b[39m\u001b[38;5;124m\"\u001b[39m,\u001b[43mmolecular_mass_parentheses\u001b[49m\u001b[43m(\u001b[49m\u001b[38;5;124;43m\"\u001b[39;49m\u001b[38;5;124;43mH2O\u001b[39;49m\u001b[38;5;124;43m\"\u001b[39;49m\u001b[43m)\u001b[49m)      \u001b[38;5;66;03m# ~18\u001b[39;00m\n\u001b[1;32m     52\u001b[0m \u001b[38;5;28mprint\u001b[39m(\u001b[38;5;124m\"\u001b[39m\u001b[38;5;124mCa(OH)2:\u001b[39m\u001b[38;5;124m\"\u001b[39m, molecular_mass_parentheses(\u001b[38;5;124m\"\u001b[39m\u001b[38;5;124mCa(OH)2\u001b[39m\u001b[38;5;124m\"\u001b[39m))  \u001b[38;5;66;03m# ~74\u001b[39;00m\n",
      "Cell \u001b[0;32mIn[2], line 22\u001b[0m, in \u001b[0;36mmolecular_mass_parentheses\u001b[0;34m(formula)\u001b[0m\n\u001b[1;32m     19\u001b[0m     count \u001b[38;5;241m=\u001b[39m \u001b[38;5;28mint\u001b[39m(num_str) \u001b[38;5;28;01mif\u001b[39;00m num_str \u001b[38;5;28;01melse\u001b[39;00m \u001b[38;5;241m1\u001b[39m\n\u001b[1;32m     21\u001b[0m     \u001b[38;5;66;03m# push mass onto stack\u001b[39;00m\n\u001b[0;32m---> 22\u001b[0m     partial\u001b[38;5;241m.\u001b[39mappend(\u001b[43melement_dict\u001b[49m[symbol] \u001b[38;5;241m*\u001b[39m count)\n\u001b[1;32m     24\u001b[0m \u001b[38;5;66;03m# 2. Handle opening parenthesis\u001b[39;00m\n\u001b[1;32m     25\u001b[0m \u001b[38;5;28;01melif\u001b[39;00m formula[i] \u001b[38;5;241m==\u001b[39m \u001b[38;5;124m\"\u001b[39m\u001b[38;5;124m(\u001b[39m\u001b[38;5;124m\"\u001b[39m:\n",
      "\u001b[0;31mNameError\u001b[0m: name 'element_dict' is not defined"
     ]
    }
   ],
   "source": [
    "def molecular_mass_parentheses(formula):\n",
    "    partial = []   # will hold partial masses and markers\n",
    "    i = 0\n",
    "\n",
    "    while i < len(formula):\n",
    "        # 1. Handle uppercase + optional lowercase (symbols)\n",
    "        if formula[i].isupper():\n",
    "            symbol = formula[i]\n",
    "            i += 1\n",
    "            if i < len(formula) and formula[i].islower():\n",
    "                symbol += formula[i]\n",
    "                i += 1\n",
    "\n",
    "            # parse number\n",
    "            num_str = \"\"\n",
    "            while i < len(formula) and formula[i].isdigit():\n",
    "                num_str += formula[i]\n",
    "                i += 1\n",
    "            count = int(num_str) if num_str else 1\n",
    "\n",
    "            # push mass onto stack\n",
    "            partial.append(element_dict[symbol] * count)\n",
    "\n",
    "        # 2. Handle opening parenthesis\n",
    "        elif formula[i] == \"(\":\n",
    "            partial.append(\"(\")\n",
    "            i += 1\n",
    "\n",
    "        # 3. Handle closing parenthesis\n",
    "        elif formula[i] == \")\":\n",
    "            i += 1\n",
    "            # read number after )\n",
    "            num_str = \"\"\n",
    "            while i < len(formula) and formula[i].isdigit():\n",
    "                num_str += formula[i]\n",
    "                i += 1\n",
    "            count = int(num_str) if num_str else 1\n",
    "\n",
    "            # pop until \"(\"\n",
    "            temp = 0\n",
    "            while partial and partial[-1] != \"(\":\n",
    "                temp += partial.pop()\n",
    "            partial.pop()  # remove \"(\"\n",
    "            partial.append(temp * count)\n",
    "\n",
    "        else:\n",
    "            i += 1  # skip unexpected\n",
    "\n",
    "    return sum(partial)\n",
    "\n",
    "print(\"H2O:\",molecular_mass_parentheses(\"H2O\"))      # ~18\n",
    "print(\"Ca(OH)2:\", molecular_mass_parentheses(\"Ca(OH)2\"))  # ~74\n"
   ]
  },
  {
   "cell_type": "markdown",
   "metadata": {},
   "source": [
    "Calculating Molecular Mass with Parentheses (Non-Recursive)\n",
    "\n",
    "- the previous function worked for simple formulas (like *H2O* or *C6H12O6*), but it could not handle parentheses  \n",
    "- to fix this, the function was extended to support groups like *(OH)2* in *Ca(OH)2*  \n",
    "- the idea is to use a *stack*, which is like a list where we add and remove values from the end  \n",
    "\n",
    "How it works\n",
    "1. *Read element symbols*\n",
    "   - just like before, the code finds symbols (like *Ca*, *O*, *H*) and numbers after them  \n",
    "   - the atomic mass multiplied by the count is pushed onto the stack  \n",
    "\n",
    "2. *Handle \"(\"*  \n",
    "   - when an opening parenthesis is found, a marker \"(\" is pushed onto the stack  \n",
    "   - this marks the beginning of a grouped part of the formula  \n",
    "\n",
    "3. *Handle \")\"* \n",
    "   - when a closing parenthesis is found, the code collects everything from the stack until it reaches \"(\" \n",
    "   - these masses are added together to get the total for the group inside the parentheses  \n",
    "   - the number after the \")\" tells how many times to multiply the group (e.g. 2 in *(OH)2*)  \n",
    "   - the multiplied result is pushed back onto the stack  \n",
    "\n",
    "4. *Finish the formula* \n",
    "   - when the loop ends, the stack contains all the individual contributions  \n",
    "   - adding them together gives the total molecular mass  \n",
    "\n",
    "Example: Ca(OH)2\n",
    "- *Ca* → 40.078 pushed to the stack  \n",
    "- \"(\" pushed as a marker  \n",
    "- *O* → 15.999 pushed  \n",
    "- *H* → 1.008 pushed  \n",
    "- \")\" closes the group → (15.999 + 1.008) × 2 = 34.014 pushed  \n",
    "- Final stack = [40.078, 34.014] → total = 74.092  \n",
    "\n"
   ]
  },
  {
   "cell_type": "code",
   "execution_count": null,
   "metadata": {},
   "outputs": [],
   "source": []
  },
  {
   "cell_type": "code",
   "execution_count": 1,
   "metadata": {},
   "outputs": [
    {
     "ename": "NameError",
     "evalue": "name 'molecular_mass_parentheses' is not defined",
     "output_type": "error",
     "traceback": [
      "\u001b[0;31m---------------------------------------------------------------------------\u001b[0m",
      "\u001b[0;31mNameError\u001b[0m                                 Traceback (most recent call last)",
      "Cell \u001b[0;32mIn[1], line 27\u001b[0m\n\u001b[1;32m     22\u001b[0m         total \u001b[38;5;241m+\u001b[39m\u001b[38;5;241m=\u001b[39m coef \u001b[38;5;241m*\u001b[39m chunk_mass\n\u001b[1;32m     24\u001b[0m     \u001b[38;5;28;01mreturn\u001b[39;00m total\n\u001b[0;32m---> 27\u001b[0m \u001b[38;5;28mprint\u001b[39m(\u001b[38;5;124m\"\u001b[39m\u001b[38;5;124mCuSO4.5H2O :\u001b[39m\u001b[38;5;124m\"\u001b[39m, \u001b[43mmolecular_mass_hydrate\u001b[49m\u001b[43m(\u001b[49m\u001b[38;5;124;43m\"\u001b[39;49m\u001b[38;5;124;43mCuSO4.5H2O\u001b[39;49m\u001b[38;5;124;43m\"\u001b[39;49m\u001b[43m)\u001b[49m)\n\u001b[1;32m     28\u001b[0m \u001b[38;5;28mprint\u001b[39m(\u001b[38;5;124m\"\u001b[39m\u001b[38;5;124mCuSO4·5H2O :\u001b[39m\u001b[38;5;124m\"\u001b[39m, molecular_mass_hydrate(\u001b[38;5;124m\"\u001b[39m\u001b[38;5;124mCuSO4·5H2O\u001b[39m\u001b[38;5;124m\"\u001b[39m))\n",
      "Cell \u001b[0;32mIn[1], line 21\u001b[0m, in \u001b[0;36mmolecular_mass_hydrate\u001b[0;34m(formula)\u001b[0m\n\u001b[1;32m     18\u001b[0m     rest \u001b[38;5;241m=\u001b[39m part[i:]  \u001b[38;5;66;03m# the real chemical chunk\u001b[39;00m\n\u001b[1;32m     20\u001b[0m     \u001b[38;5;66;03m# reuse the parentheses-aware function!\u001b[39;00m\n\u001b[0;32m---> 21\u001b[0m     chunk_mass \u001b[38;5;241m=\u001b[39m \u001b[43mmolecular_mass_parentheses\u001b[49m(rest)\n\u001b[1;32m     22\u001b[0m     total \u001b[38;5;241m+\u001b[39m\u001b[38;5;241m=\u001b[39m coef \u001b[38;5;241m*\u001b[39m chunk_mass\n\u001b[1;32m     24\u001b[0m \u001b[38;5;28;01mreturn\u001b[39;00m total\n",
      "\u001b[0;31mNameError\u001b[0m: name 'molecular_mass_parentheses' is not defined"
     ]
    }
   ],
   "source": [
    "def molecular_mass_hydrate(formula):\n",
    "    # Support both '.' and '·' notations\n",
    "    normalized = formula.replace(\"·\", \".\")\n",
    "    parts = normalized.split(\".\")\n",
    "\n",
    "    total = 0\n",
    "    for part in parts:\n",
    "        if not part:  # skip empty just in case\n",
    "            continue\n",
    "\n",
    "        # read a leading coefficient, e.g. \"5H2O\" -> coef=5, rest=\"H2O\"\n",
    "        i = 0\n",
    "        coef_str = \"\"\n",
    "        while i < len(part) and part[i].isdigit():\n",
    "            coef_str += part[i]\n",
    "            i += 1\n",
    "        coef = int(coef_str) if coef_str else 1\n",
    "        rest = part[i:]  # the real chemical chunk\n",
    "\n",
    "        # reuse the parentheses-aware function!\n",
    "        chunk_mass = molecular_mass_parentheses(rest)\n",
    "        total += coef * chunk_mass\n",
    "\n",
    "    return total\n",
    "\n",
    "\n",
    "print(\"CuSO4.5H2O :\", molecular_mass_hydrate(\"CuSO4.5H2O\"))\n",
    "print(\"CuSO4·5H2O :\", molecular_mass_hydrate(\"CuSO4·5H2O\"))\n"
   ]
  }
 ],
 "metadata": {
  "kernelspec": {
   "display_name": "cyp",
   "language": "python",
   "name": "python3"
  },
  "language_info": {
   "codemirror_mode": {
    "name": "ipython",
    "version": 3
   },
   "file_extension": ".py",
   "mimetype": "text/x-python",
   "name": "python",
   "nbconvert_exporter": "python",
   "pygments_lexer": "ipython3",
   "version": "3.10.16"
  }
 },
 "nbformat": 4,
 "nbformat_minor": 2
}
