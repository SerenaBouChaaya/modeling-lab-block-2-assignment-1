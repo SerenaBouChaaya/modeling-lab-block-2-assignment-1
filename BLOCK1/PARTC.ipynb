{
 "cells": [
  {
   "cell_type": "markdown",
   "metadata": {},
   "source": [
    "# CH-315 – Modeling Lab\n",
    "## GroupC_Block1 – **Part C: Simulation / Modeling** (Skeleton)\n",
    "\n",
    "**Contributors:** _Fatima Abdoun and Serena Bou Chaaya\n",
    "\n",
    "> This notebook is a scaffold for Part C only. Replace TODOs with your work and add explanations in Markdown. Keep code modular and well-documented.\n"
   ]
  },
  {
   "cell_type": "markdown",
   "metadata": {},
   "source": [
    "---\n",
    "## C.1 Monte Carlo π estimation (Person A)\n",
    "Implement a function `estimate_pi(N)` that samples `N` points uniformly in the square [-1, 1] × [-1, 1], counts how many fall inside the unit circle, and returns the estimate of π.\n",
    "\n",
    "**Deliverables:**\n",
    "1. `estimate_pi(N)` function.\n",
    "2. Convergence plot of π estimate vs. N (e.g., N ∈ {10², 10³, 10⁴, 10⁵}).\n",
    "3. Short Markdown discussion of accuracy and variance.\n"
   ]
  },
  {
   "cell_type": "code",
   "execution_count": null,
   "metadata": {
    "collapsed": false
   },
   "outputs": [],
   "source": [
    "# C.1 – Imports & helpers (Person A)\n",
    "import numpy as np\n",
    "import matplotlib.pyplot as plt\n",
    "\n",
    "# Optional: set a default seed for reproducibility during development\n",
    "DEFAULT_SEED = 42\n",
    "rng = np.random.default_rng(DEFAULT_SEED)\n",
    "\n",
    "def estimate_pi(N: int, rng=None) -> float:\n",
    "    \"\"\"\n",
    "    Estimate π by Monte Carlo using N random points in [-1,1] x [-1,1].\n",
    "    Parameters\n",
    "    ----------\n",
    "    N : int\n",
    "        Number of random points.\n",
    "    rng : np.random.Generator or None\n",
    "        Random generator to use. If None, uses np.random.default_rng().\n",
    "    Returns\n",
    "    -------\n",
    "    float\n",
    "        π estimate.\n",
    "    \"\"\"\n",
    "    # TODO: implement\n",
    "    # Hint: generate x, y ~ U(-1, 1); inside if x**2 + y**2 <= 1\n",
    "    if rng is None:\n",
    "        rng = np.random.default_rng()\n",
    "    # x = rng.uniform(-1, 1, size=N)\n",
    "    # y = rng.uniform(-1, 1, size=N)\n",
    "    # inside = (x*x + y*y) <= 1.0\n",
    "    # return 4.0 * inside.mean()\n",
    "    raise NotImplementedError(\"Fill in estimate_pi\")\n"
   ]
  },
  {
   "cell_type": "code",
   "execution_count": null,
   "metadata": {},
   "outputs": [],
   "source": [
    "# C.1 – Convergence experiment (Person A)\n",
    "Ns = [10**2, 10**3, 10**4, 10**5]\n",
    "pi_estimates = []\n",
    "\n",
    "# TODO: run estimate_pi for each N and collect results into pi_estimates\n",
    "# for N in Ns:\n",
    "#     pi_estimates.append(estimate_pi(N, rng=rng))\n",
    "\n",
    "# Plot: π estimate vs N (log-scale on N is common)\n",
    "plt.figure()\n",
    "plt.plot(Ns, pi_estimates, marker='o')\n",
    "plt.axhline(np.pi, linestyle='--')\n",
    "plt.xscale('log')\n",
    "plt.xlabel('N (log scale)')\n",
    "plt.ylabel('π estimate')\n",
    "plt.title('Monte Carlo π estimation – convergence')\n",
    "plt.show()\n",
    "\n",
    "# TODO: brief commentary in Markdown cell below about convergence behavior."
   ]
  },
  {
   "cell_type": "markdown",
   "metadata": {},
   "source": [
    "#### C.1 – Discussion (Person A)\n",
    "_Add a short analysis: How does error scale with N? Why is variance high for small N? What is the role of random seeds?_\n"
   ]
  },
  {
   "cell_type": "markdown",
   "metadata": {},
   "source": [
    "---\n",
    "## C.2 Chemistry-inspired Monte Carlo (Person B)\n",
    "Simulate random molecular collisions in a box, assign energies (from a chosen distribution), and estimate the **reaction probability** as the fraction of collisions exceeding a threshold energy.\n",
    "\n",
    "**Deliverables:**\n",
    "1. Functions to generate energies and compute the fraction above a threshold.\n",
    "2. Experiments varying `M` and the threshold `E_thresh` (and optionally the distribution parameters).\n",
    "3. Plots (histogram of energies; probability vs threshold) and a short discussion linking to chemistry.\n"
   ]
  },
  {
   "cell_type": "code",
   "execution_count": null,
   "metadata": {},
   "outputs": [],
   "source": [
    "# C.2 – Imports & helpers (Person B)\n",
    "import numpy as np\n",
    "import matplotlib.pyplot as plt\n",
    "\n",
    "def simulate_collision_energies(M: int, dist: str = 'normal', rng=None, **kwargs) -> np.ndarray:\n",
    "    \"\"\"\n",
    "    Simulate M collision energies.\n",
    "    Parameters\n",
    "    ----------\n",
    "    M : int\n",
    "        Number of collisions\n",
    "    dist : {'normal','uniform','exponential'}\n",
    "        Distribution type to sample energies from.\n",
    "    rng : np.random.Generator or None\n",
    "        Random generator.\n",
    "    kwargs :\n",
    "        Distribution parameters, e.g. mean, std for normal; low, high for uniform; scale for exponential.\n",
    "    Returns\n",
    "    -------\n",
    "    np.ndarray\n",
    "        Array of length M with energies.\n",
    "    \"\"\"\n",
    "    if rng is None:\n",
    "        rng = np.random.default_rng(123)\n",
    "    dist = dist.lower()\n",
    "    if dist == 'normal':\n",
    "        mean = kwargs.get('mean', 1.0)\n",
    "        std = kwargs.get('std', 0.4)\n",
    "        energies = rng.normal(mean, std, size=M)\n",
    "        energies = np.clip(energies, 0, None)  # energies non-negative\n",
    "    elif dist == 'uniform':\n",
    "        low = kwargs.get('low', 0.0)\n",
    "        high = kwargs.get('high', 2.0)\n",
    "        energies = rng.uniform(low, high, size=M)\n",
    "    elif dist == 'exponential':\n",
    "        scale = kwargs.get('scale', 1.0)\n",
    "        energies = rng.exponential(scale, size=M)\n",
    "    else:\n",
    "        raise ValueError(\"Unsupported distribution: %s\" % dist)\n",
    "    return energies\n",
    "\n",
    "def reaction_probability(energies: np.ndarray, E_thresh: float) -> float:\n",
    "    \"\"\"\n",
    "    Fraction of collisions with energy >= E_thresh.\n",
    "    \"\"\"\n",
    "    return float((energies >= E_thresh).mean())\n"
   ]
  },
  {
   "cell_type": "code",
   "execution_count": null,
   "metadata": {},
   "outputs": [],
   "source": [
    "# C.2 – Example experiment template (Person B)\n",
    "M = 100_000  # number of collisions\n",
    "E_thresh = 1.2\n",
    "\n",
    "# TODO: choose distribution and parameters\n",
    "energies = simulate_collision_energies(M, dist='normal', mean=1.0, std=0.4)\n",
    "p_react = reaction_probability(energies, E_thresh)\n",
    "print(f\"Estimated reaction probability (E >= {E_thresh}): {p_react:.4f}\")\n",
    "\n",
    "# Plot histogram of energies\n",
    "plt.figure()\n",
    "plt.hist(energies, bins=50, density=True)\n",
    "plt.axvline(E_thresh, linestyle='--')\n",
    "plt.xlabel('Collision energy')\n",
    "plt.ylabel('Density')\n",
    "plt.title('Energy distribution with threshold')\n",
    "plt.show()\n",
    "\n",
    "# TODO: add a sweep over E_thresh and plot probability vs threshold"
   ]
  },
  {
   "cell_type": "markdown",
   "metadata": {},
   "source": [
    "#### C.2 – Discussion (Person B)\n",
    "_Explain the physical interpretation: threshold as activation energy; how distribution parameters affect probability; role of sample size M._"
   ]
  },
  {
   "cell_type": "markdown",
   "metadata": {},
   "source": [
    "---\n",
    "## Joint conclusions – Comparing C.1 and C.2 (Both)\n",
    "Summarize similarities/differences between the two Monte Carlo problems (geometry vs. energy threshold; estimator variance; convergence with sample size; interpretation in chemistry)."
   ]
  }
 ],
 "metadata": {
  "kernelspec": {
   "display_name": "Python 3",
   "language": "python",
   "name": "python3"
  },
  "language_info": {
   "name": "python",
   "version": ""
  },
  "orig_nbformat": 4
 },
 "nbformat": 4,
 "nbformat_minor": 5
}
