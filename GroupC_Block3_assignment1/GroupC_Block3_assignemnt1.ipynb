{
 "cells": [
  {
   "cell_type": "markdown",
   "metadata": {},
   "source": [
    "Fatima Abdoun, Serena Bou Chaaya, Valentine Wien, Victoire Ollari "
   ]
  },
  {
   "cell_type": "code",
   "execution_count": 1,
   "metadata": {},
   "outputs": [],
   "source": [
    "import matplotlib.pylab as plt \n",
    "import numpy as np\n",
    "\n",
    "from sklearn.pipeline import Pipeline\n",
    "from sklearn.preprocessing import PolynomialFeatures\n",
    "from sklearn.linear_model import LinearRegression, Ridge"
   ]
  },
  {
   "cell_type": "markdown",
   "metadata": {},
   "source": [
    "# 1. Cost functions"
   ]
  },
  {
   "cell_type": "markdown",
   "metadata": {},
   "source": [
    "Lets focus on linear regression of the form \n",
    "\n",
    "$\\mathbf{y} \\approx f(\\mathbf{X}) = \\mathbf{X}\\mathbf{w_1} + \\mathbf{w_0}.$\n"
   ]
  },
  {
   "cell_type": "markdown",
   "metadata": {},
   "source": [
    "#### 1.1 What are the rows of $\\mathbf{X}$?"
   ]
  },
  {
   "cell_type": "markdown",
   "metadata": {},
   "source": [
    "* Each **row** of X corresponds to **one data point (observation, sample)**.\n",
    "* That is, row i contains the feature values of the i-th example.\n",
    "* If there are n samples, X will have n rows."
   ]
  },
  {
   "cell_type": "markdown",
   "metadata": {},
   "source": [
    "#### 1.2 What are the columns of $\\mathbf{X}$?"
   ]
  },
  {
   "cell_type": "markdown",
   "metadata": {},
   "source": [
    "* Each column of X corresponds to one feature/variable across all data points.\n",
    "* That is, column j contains the values of the j-th feature for every observation.\n",
    "* If there are m features, X will have m columns."
   ]
  },
  {
   "cell_type": "markdown",
   "metadata": {},
   "source": [
    "Often, we write the equation above as\n",
    "\n",
    "$\\mathbf{y} \\approx \\mathbf{\\tilde{X}}\\mathbf{w}$"
   ]
  },
  {
   "cell_type": "markdown",
   "metadata": {},
   "source": [
    "#### 1.3 How does $\\mathbf{\\tilde{X}}$ look like in this case (i.e., how does the shape of the matrix change compared to $\\mathbf{X}$)?"
   ]
  },
  {
   "cell_type": "markdown",
   "metadata": {},
   "source": [
    "We start from:\n",
    "\n",
    "$$\n",
    "y \\approx X w_1 + w_0\n",
    "$$\n",
    "\n",
    "\n",
    "To rewrite this in the compact form\n",
    "\n",
    "$$\n",
    "y \\approx \\tilde{X} W\n",
    "$$\n",
    "\n",
    "we **augment $X$** with an additional column of ones.\n",
    "\n",
    "That is:\n",
    "\n",
    "$$\n",
    "\\tilde{X} =\n",
    "\\begin{bmatrix}\n",
    "1 & x_{1,1} & x_{1,2} & \\cdots & x_{1,d} \\\\\n",
    "1 & x_{2,1} & x_{2,2} & \\cdots & x_{2,d} \\\\\n",
    "\\vdots & \\vdots & \\vdots & & \\vdots \\\\\n",
    "1 & x_{n,1} & x_{n,2} & \\cdots & x_{n,d}\n",
    "\\end{bmatrix}\n",
    "$$\n",
    "\n",
    "and\n",
    "\n",
    "$$\n",
    "W =\n",
    "\\begin{bmatrix}\n",
    "w_0 \\\\\n",
    "w_1 \\\\\n",
    "w_2 \\\\\n",
    "\\vdots \\\\\n",
    "w_d\n",
    "\\end{bmatrix}\n",
    "$$\n",
    "This can be proved : \n",
    "We start with the augmented forms:\n",
    "\n",
    "$$\n",
    "\\tilde{X} = \\begin{bmatrix} \\mathbf{1} & X \\end{bmatrix}, \n",
    "\\qquad\n",
    "W = \\begin{bmatrix} w_0 \\\\ w_1 \\end{bmatrix},\n",
    "$$\n",
    "\n",
    "where  \n",
    "- $\\mathbf{1} \\in \\mathbb{R}^{n \\times 1}$ is a column of ones,  \n",
    "- $X \\in \\mathbb{R}^{n \\times d}$ is the feature matrix,  \n",
    "- $w_0 \\in \\mathbb{R}$ is the scalar bias,  \n",
    "- $w_1 \\in \\mathbb{R}^{d \\times 1}$ is the weight vector.  \n",
    "\n",
    "\n",
    "***Matrix multiplication***:\n",
    "\n",
    "$$\n",
    "\\tilde{X} W \n",
    "= \n",
    "\\begin{bmatrix} \\mathbf{1} & X \\end{bmatrix}\n",
    "\\begin{bmatrix} w_0 \\\\ w_1 \\end{bmatrix}\n",
    "= \\mathbf{1} w_0 + X w_1\n",
    "$$\n",
    "\n",
    "\n",
    "\n",
    "***Interpretation***:\n",
    "\n",
    "- $\\mathbf{1} w_0 = w_0 \\mathbf{1}$ is just an $n$-vector with every entry equal to $w_0$.  \n",
    "- So:\n",
    "\n",
    "$$\n",
    "\\tilde{X} W = X w_1 + w_0 \\mathbf{1}.\n",
    "$$\n",
    "\n",
    "\n",
    "***Component-wise (for sample $i$)***:\n",
    "\n",
    "$$\n",
    "(\\tilde{X} W)_i = w_0 \\cdot 1 + \\sum_{j=1}^{d} x_{ij} w_{1,j}\n",
    "= w_0 + (X w_1)_i\n",
    "$$\n",
    "\n",
    "This is exactly the original expression:\n",
    "\n",
    "$$\n",
    "X w_1 + w_0.\n",
    "$$\n",
    "\n",
    "- Original $X$:\n",
    "  - Shape: $(n \\times d)$  \n",
    "  - $n =$ number of samples (rows)  \n",
    "  - $d =$ number of features (columns)  \n",
    "\n",
    "- Augmented $\\tilde{X}$:\n",
    "  - Shape: $(n \\times (d+1))$  \n",
    "  - Same number of rows (still one per sample).  \n",
    "  - One extra column (the bias column of ones).  \n",
    "\n",
    "- Weight vector $W$:\n",
    "  - Shape: $((d+1) \\times 1)$, holding both intercept $w_0$ and feature weights.  \n",
    "\n",
    "- $\\tilde{X}$ is the original design matrix $X$ **with an extra first column of ones**.  \n",
    "- Its shape changes from $(n \\times d)$ to $(n \\times (d+1))$.  \n"
   ]
  },
  {
   "cell_type": "markdown",
   "metadata": {},
   "source": [
    "For machine learning, we need a cost function. Two common choices are the mean-squared error (MSE, $\\mathcal{L}_2$), and the mean-absolute error (MAE, $\\mathcal{L}_1$)\n",
    "\n",
    "\\begin{align}\n",
    "    \\mathcal{L}_2 &=& \\frac{1}{N} \\sum_{i=1}^N \\left(y_i - f(x_i) \\right)^2 \\\\\n",
    "    \\mathcal{L}_1 &=& \\frac{1}{N} \\sum_{i=1}^N \\left|y_i - f(x_i) \\right| \n",
    "\\end{align}"
   ]
  },
  {
   "cell_type": "markdown",
   "metadata": {},
   "source": [
    "#### 1.4 In the Jupyter notebook, write a Python function that computes these two cost functions given an error term $\\boldsymbol{\\epsilon} = \\mathbf{y} - \\mathbf{\\tilde{X}}\\mathbf{w}$"
   ]
  },
  {
   "cell_type": "code",
   "execution_count": 2,
   "metadata": {},
   "outputs": [],
   "source": [
    "def mean_squared_error(error_vector):\n",
    "    mean_squared_error = np.mean(error_vector**2)\n",
    "    return mean_squared_error"
   ]
  },
  {
   "cell_type": "code",
   "execution_count": 4,
   "metadata": {},
   "outputs": [
    {
     "data": {
      "text/plain": [
       "0.0"
      ]
     },
     "execution_count": 4,
     "metadata": {},
     "output_type": "execute_result"
    }
   ],
   "source": [
    "mean_squared_error(np.array([0,0,0]))"
   ]
  },
  {
   "cell_type": "code",
   "execution_count": 3,
   "metadata": {},
   "outputs": [],
   "source": [
    "def mean_absolute_error(error_vector):\n",
    "    mean_absolute_error = np.mean(np.abs(error_vector))\n",
    "    return mean_absolute_error"
   ]
  },
  {
   "cell_type": "code",
   "execution_count": 5,
   "metadata": {},
   "outputs": [
    {
     "data": {
      "text/plain": [
       "1.0"
      ]
     },
     "execution_count": 5,
     "metadata": {},
     "output_type": "execute_result"
    }
   ],
   "source": [
    "mean_absolute_error([1,1,1])"
   ]
  },
  {
   "cell_type": "markdown",
   "metadata": {},
   "source": [
    "Your code should run as follows"
   ]
  },
  {
   "cell_type": "markdown",
   "metadata": {},
   "source": [
    "```python\n",
    "mean_squared_error(np.array([0,0,0]))\n",
    "> returns 0\n",
    "```\n",
    "\n",
    "```python\n",
    "mean_squared_error(np.array([1,1,1]))\n",
    "> returns 1\n",
    "```"
   ]
  },
  {
   "cell_type": "markdown",
   "metadata": {},
   "source": [
    "#### 1.5 What is the shape of these cost functions as a function of the error"
   ]
  },
  {
   "cell_type": "code",
   "execution_count": null,
   "metadata": {},
   "outputs": [],
   "source": [
    "x_axis = np.linspace(-10,10,100) \n",
    "y_mae = [mean_absolute_error(x) for x in x_axis]\n",
    "y_mse = [mean_squared_error(x) for x in x_axis]"
   ]
  },
  {
   "cell_type": "code",
   "execution_count": 7,
   "metadata": {},
   "outputs": [
    {
     "data": {
      "text/plain": [
       "Text(0, 0.5, 'cost function')"
      ]
     },
     "execution_count": 7,
     "metadata": {},
     "output_type": "execute_result"
    },
    {
     "data": {
      "image/png": "[encoded data removed]",
      "text/plain": [
       "<Figure size 640x480 with 1 Axes>"
      ]
     },
     "metadata": {},
     "output_type": "display_data"
    }
   ],
   "source": [
    "plt.plot(x_axis, y_mse, label='MSE')\n",
    "plt.plot(x_axis, y_mae, label='MAE')\n",
    "plt.xlabel('error term')\n",
    "plt.ylabel('cost function')"
   ]
  },
  {
   "cell_type": "markdown",
   "metadata": {},
   "source": [
    "***Cost Functions in Linear Regression***\n",
    "\n",
    "In linear regression, we use a *cost function* to measure how far the model’s predictions are from the true values. Two common choices are the *Mean Squared Error (MSE)* and the *Mean Absolute Error (MAE)*.\n",
    "\n",
    "The plot above shows the cost functions evaluated on a range of possible error values from (-10) to (10):\n",
    "\n",
    "* *Blue curve = MSE ($x^2$)*\n",
    "* *Orange curve = MAE ($|x|$)*\n",
    "\n",
    "***Interpretation of the curves***\n",
    "\n",
    "* **Blue curve (MSE):**\n",
    "\n",
    "  * A parabola opening upwards.\n",
    "  * Cost increases *quadratically* as the error grows.\n",
    "  * This means *large errors are penalized much more heavily* than small errors.\n",
    "\n",
    "* **Orange curve (MAE):**\n",
    "\n",
    "  * A straight “V”-shaped line.\n",
    "  * Cost increases *linearly* with the error.\n",
    "  * This means *all errors are treated proportionally*, making MAE more robust to outliers.\n",
    "\n",
    "***Summary***\n",
    "\n",
    "* The *blue parabola* represents the *Mean Squared Error (MSE)*.\n",
    "* The *orange V-shape* represents the *Mean Absolute Error (MAE)*.\n",
    "* MSE punishes large errors more severely, while MAE gives a fairer weight to all errors.\n",
    "\n"
   ]
  },
  {
   "cell_type": "markdown",
   "metadata": {},
   "source": [
    "#### 1.6  Are both loss functions differentiable for all $\\boldsymbol{\\epsilon}$? What implications does this have for gradient based optimization like gradient descent?"
   ]
  },
  {
   "cell_type": "markdown",
   "metadata": {},
   "source": [
    "***Differentiability of the two losses***\n",
    "\n",
    "* *MSE (Mean Squared Error):*\n",
    "\n",
    "$$\n",
    "\\text{MSE}(\\epsilon) = \\frac{1}{N}\\sum_{i=1}^N \\epsilon_i^2\n",
    "$$\n",
    "\n",
    "* Differentiable everywhere (smooth parabola).\n",
    "* Derivative:\n",
    "  $$\n",
    "  \\frac{\\partial \\text{MSE}}{\\partial \\epsilon_i} = \\frac{2}{N}\\epsilon_i\n",
    "  $$\n",
    "\n",
    "This makes MSE very friendly for gradient-based optimization methods.\n",
    "\n",
    "* *MAE (Mean Absolute Error):*\n",
    "\n",
    "$$\n",
    "\\text{MAE}(\\epsilon) = \\frac{1}{N}\\sum_{i=1}^N |\\epsilon_i|\n",
    "$$\n",
    "\n",
    "* Differentiable everywhere *except at** $\\epsilon_i = 0$ (the “corner” of the V).\n",
    "* Gradient:\n",
    "\n",
    "$$\n",
    "\\frac{\\partial \\text{MAE}}{\\partial \\epsilon_i} = \\frac{1}{N}, \\quad \\epsilon_i > 0\n",
    "$$\n",
    "\n",
    "$$\n",
    "\\frac{\\partial \\text{MAE}}{\\partial \\epsilon_i} = -\\frac{1}{N}, \\quad \\epsilon_i < 0\n",
    "$$\n",
    "\n",
    "$$\n",
    "\\frac{\\partial \\text{MAE}}{\\partial \\epsilon_i} \\text{ is undefined } , \\quad \\epsilon_i = 0\n",
    "$$\n",
    "\n",
    "\n",
    "⚠️ At $\\epsilon_i = 0$, the gradient is not defined. \n",
    "\n",
    "***1. Optimization in machine learning***\n",
    "\n",
    "When we train a model (like linear regression or neural networks), we want to find the *best parameters* (weights (w)) that minimize a *loss function* (e.g., MSE, MAE).\n",
    "\n",
    "* Optimization = process of finding the minimum of the loss function.\n",
    "* The “landscape” of the loss function can be visualized like a surface or curve.\n",
    "\n",
    "***2. What is the **gradient**?***\n",
    "\n",
    "* The *gradient* is a vector of partial derivatives of the loss function with respect to the parameters.\n",
    "* Intuitively: it points in the direction of *steepest increase*.\n",
    "* If we want to minimize, we go in the *opposite direction* of the gradient.\n",
    "\n",
    "\n",
    "***3. Why gradients matter***\n",
    "\n",
    "* If the loss is smooth (like **MSE**), gradients are well-defined everywhere → optimization is straightforward.\n",
    "* If the loss has corners (like **MAE**), gradients may not exist everywhere → we use *subgradients*, and optimization may be slower or trickier.\n",
    "\n",
    "* **MSE:**\n",
    "\n",
    "  * Smooth and differentiable → gradient descent has a clear direction everywhere.\n",
    "  * Leads to stable and efficient optimization.\n",
    "\n",
    "* **MAE:**\n",
    "\n",
    "  * Non-differentiable at $\\epsilon = 0$.\n",
    "  * Gradient descent still works, but requires **subgradient methods** or special handling.\n",
    "  * Convergence can be slower or less stable.\n",
    "\n",
    "* **MSE is differentiable everywhere**, so gradient descent works smoothly.\n",
    "* **MAE is not differentiable at zero**, which complicates gradient-based optimization.\n",
    "  In practice, optimizers can still handle this using subgradients, but training may be less stable and slower compared to MSE."
   ]
  },
  {
   "cell_type": "markdown",
   "metadata": {},
   "source": [
    "#### 1. Which loss function is more sensitive to outliers and why?"
   ]
  },
  {
   "cell_type": "markdown",
   "metadata": {},
   "source": [
    "1. **MSE squares the error terms**:\n",
    "   $$\n",
    "   \\text{MSE} = \\frac{1}{N}\\sum_{i=1}^N \\epsilon_i^2\n",
    "   $$\n",
    "\n",
    "   * If one data point has a very large error (an outlier), squaring it makes it disproportionately larger than the rest.\n",
    "   * Example:\n",
    "\n",
    "     * Normal error = 2 → squared = 4\n",
    "     * Outlier error = 20 → squared = 400 \n",
    "   * That one outlier can dominate the cost.\n",
    "\n",
    "2. **MAE grows linearly with error**:\n",
    "   $$\n",
    "   \\text{MAE} = \\frac{1}{N}\\sum_{i=1}^N |\\epsilon_i|\n",
    "   $$\n",
    "\n",
    "   * Outliers only contribute proportionally to their magnitude.\n",
    "   * So the influence of a large error is not exaggerated compared to small errors.\n",
    "\n",
    "***Summary***\n",
    "\n",
    "* **MSE** → **more sensitive** to outliers, because squaring amplifies large errors.\n",
    "* **MAE** → more **robust** to outliers, since it treats all errors linearly.\n"
   ]
  },
  {
   "cell_type": "markdown",
   "metadata": {},
   "source": [
    "# 2. Regularization"
   ]
  },
  {
   "cell_type": "markdown",
   "metadata": {},
   "source": [
    "Assume that the columns of $\\mathbf{X}$ are linearly independent.\n",
    "As a refresher of linear algebra, recall when the linear system $\\mathbf{X}\\mathbf{w} = \\mathbf{y}$ has"
   ]
  },
  {
   "cell_type": "markdown",
   "metadata": {},
   "source": [
    "#### 2.1 One unique solution"
   ]
  },
  {
   "cell_type": "markdown",
   "metadata": {},
   "source": [
    "__< Your answer >__"
   ]
  },
  {
   "cell_type": "markdown",
   "metadata": {},
   "source": [
    "#### 2.2 No solution"
   ]
  },
  {
   "cell_type": "markdown",
   "metadata": {},
   "source": [
    "__< Your answer >__"
   ]
  },
  {
   "cell_type": "markdown",
   "metadata": {},
   "source": [
    "#### 2.3 An infinite number of solutions"
   ]
  },
  {
   "cell_type": "markdown",
   "metadata": {},
   "source": [
    "__< Your answer >__"
   ]
  },
  {
   "cell_type": "markdown",
   "metadata": {},
   "source": [
    "#### 2.4 Give a geometrical interpretation of the matrix Rank (10 bonus point if you use the Manim package)"
   ]
  },
  {
   "cell_type": "markdown",
   "metadata": {},
   "source": [
    "__< Your answer >__"
   ]
  },
  {
   "cell_type": "markdown",
   "metadata": {},
   "source": [
    "#### 2.5 In general, why can't we solve the linear equation using $\\mathbf{y} = \\tilde{\\mathbf{X}}^{-1}\\textbf{w}$? (1 point)"
   ]
  },
  {
   "cell_type": "markdown",
   "metadata": {},
   "source": [
    "__< Your answer >__"
   ]
  },
  {
   "cell_type": "markdown",
   "metadata": {},
   "source": [
    "#### 2.6 Differentiate above formula step by step and show what will we have?"
   ]
  },
  {
   "cell_type": "markdown",
   "metadata": {},
   "source": [
    "__< Your answer >__"
   ]
  },
  {
   "cell_type": "markdown",
   "metadata": {},
   "source": [
    "#### 2.7 if we want $\\| y - \\tilde{X} w \\|_2^2$ to be minimum, what should the derivative be equal to?"
   ]
  },
  {
   "cell_type": "markdown",
   "metadata": {},
   "source": [
    "__< Your answer >__"
   ]
  },
  {
   "cell_type": "markdown",
   "metadata": {},
   "source": [
    "#### 2.8 What is the Hat matrix and what does its diagonal values correspond to?"
   ]
  },
  {
   "cell_type": "markdown",
   "metadata": {},
   "source": [
    "__< Your answer >__"
   ]
  },
  {
   "cell_type": "markdown",
   "metadata": {},
   "source": [
    "#### 2.9 What is Willson’s plot and how does it help in outlier detection?"
   ]
  },
  {
   "cell_type": "markdown",
   "metadata": {},
   "source": [
    "__< Your answer >__"
   ]
  },
  {
   "cell_type": "markdown",
   "metadata": {},
   "source": [
    "#### 2.10 What happens if some columns are linearly dependent? What is the connection to feature selection?"
   ]
  },
  {
   "cell_type": "markdown",
   "metadata": {},
   "source": [
    "__< Your answer >__"
   ]
  },
  {
   "cell_type": "markdown",
   "metadata": {},
   "source": [
    "#### 2.11 What will be the new cost function after adding the regularization term?"
   ]
  },
  {
   "cell_type": "markdown",
   "metadata": {},
   "source": [
    "__< Your answer >__"
   ]
  },
  {
   "cell_type": "markdown",
   "metadata": {},
   "source": [
    "#### 2.12 What will be the new 𝑤 when we differentiate the new cost function and set it to zero."
   ]
  },
  {
   "cell_type": "markdown",
   "metadata": {},
   "source": [
    "__< Your answer >__"
   ]
  },
  {
   "cell_type": "markdown",
   "metadata": {},
   "source": [
    "#### 2.13 Prove that the part of Hat matrix where we want to take the inverse from is always reversible after we introduce the regularization term."
   ]
  },
  {
   "cell_type": "markdown",
   "metadata": {},
   "source": [
    "__< Your answer >__"
   ]
  },
  {
   "cell_type": "markdown",
   "metadata": {},
   "source": [
    "#### 2.14  What is the shape of the parabola as a function of $a$?"
   ]
  },
  {
   "cell_type": "code",
   "execution_count": 14,
   "metadata": {},
   "outputs": [],
   "source": [
    "def parabola(x, a = 1): \n",
    "    return a * x ** 2"
   ]
  },
  {
   "cell_type": "code",
   "execution_count": 17,
   "metadata": {},
   "outputs": [],
   "source": [
    "x_axis_parabola = np.linspace(-10, 10, 100)"
   ]
  },
  {
   "cell_type": "code",
   "execution_count": 18,
   "metadata": {},
   "outputs": [
    {
     "data": {
      "text/plain": [
       "[<matplotlib.lines.Line2D at 0x7f91b8f161d0>]"
      ]
     },
     "execution_count": 18,
     "metadata": {},
     "output_type": "execute_result"
    },
    {
     "data": {
      "image/png": "[encoded data removed]",
      "text/plain": [
       "<Figure size 432x288 with 1 Axes>"
      ]
     },
     "metadata": {
      "needs_background": "light"
     },
     "output_type": "display_data"
    }
   ],
   "source": [
    "plt.plot(x_axis_parabola, parabola(x_axis_parabola))"
   ]
  },
  {
   "cell_type": "markdown",
   "metadata": {},
   "source": [
    "__< Your answer >__"
   ]
  },
  {
   "cell_type": "markdown",
   "metadata": {},
   "source": [
    "#### 2.15 Plot the approximation to the function for different order polynomials ($N \\in \\{1, 2, 16\\}$) and with different regularization strength ($\\lambda \\in \\{0, 10^{-3}, 10^{-2}, 1\\}$). What do you observe "
   ]
  },
  {
   "cell_type": "code",
   "execution_count": 22,
   "metadata": {},
   "outputs": [],
   "source": [
    "def true_function(X):\n",
    "    return np.cos(1.5 * np.pi * X)"
   ]
  },
  {
   "cell_type": "code",
   "execution_count": 26,
   "metadata": {},
   "outputs": [],
   "source": [
    "X_test = np.linspace(0, 1, 100) # some grid for us on the x axis"
   ]
  },
  {
   "cell_type": "code",
   "execution_count": 48,
   "metadata": {},
   "outputs": [],
   "source": [
    "n_samples = 10 # the number of points we will sample from true_function\n",
    "degrees = [1, 2, 16] # the polynomial degrees we will test\n",
    "\n",
    "X = np.sort(np.random.rand(n_samples))\n",
    "y = true_function(X) + np.random.randn(n_samples) * 0.1 # add some scaled random noise"
   ]
  },
  {
   "cell_type": "code",
   "execution_count": 49,
   "metadata": {},
   "outputs": [
    {
     "data": {
      "text/plain": [
       "<matplotlib.legend.Legend at 0x7f91ba9a5ed0>"
      ]
     },
     "execution_count": 49,
     "metadata": {},
     "output_type": "execute_result"
    },
    {
     "data": {
      "image/png": "[encoded data removed]",
      "text/plain": [
       "<Figure size 432x288 with 1 Axes>"
      ]
     },
     "metadata": {
      "needs_background": "light"
     },
     "output_type": "display_data"
    }
   ],
   "source": [
    "plt.scatter(X, y, label='noisy samples')\n",
    "plt.plot(X_test, true_function(X_test), c='r', label='true function')\n",
    "plt.legend()"
   ]
  },
  {
   "cell_type": "markdown",
   "metadata": {},
   "source": [
    "The following code will fit a polynomial regression, you need to fill the degree"
   ]
  },
  {
   "cell_type": "code",
   "execution_count": null,
   "metadata": {},
   "outputs": [],
   "source": [
    "polynomial_features = PolynomialFeatures(degree=#FILLEME,\n",
    "                                             include_bias=False)\n",
    "linear_regression = LinearRegression()\n",
    "pipeline = Pipeline([(\"polynomial_features\", polynomial_features),\n",
    "                     (\"linear_regression\", linear_regression)])\n",
    "pipeline.fit(X[:, np.newaxis], y)"
   ]
  },
  {
   "cell_type": "markdown",
   "metadata": {},
   "source": [
    "To plot the result, you can use the following code"
   ]
  },
  {
   "cell_type": "code",
   "execution_count": null,
   "metadata": {},
   "outputs": [],
   "source": [
    "plt.plot(X_test, pipeline.predict(X_test[:, np.newaxis]), label=\"model of degree \")\n",
    "plt.scatter(X, y, label='noisy samples')\n",
    "plt.plot(X_test, true_function(X_test), c='r', label='true function')\n",
    "plt.legend()"
   ]
  },
  {
   "cell_type": "markdown",
   "metadata": {},
   "source": [
    "Next, we can investigate the effect of the regularization parameter $\\lambda$ (function parameter `alpha`), For this, you can use the following code "
   ]
  },
  {
   "cell_type": "code",
   "execution_count": null,
   "metadata": {},
   "outputs": [],
   "source": [
    "polynomial_features = PolynomialFeatures(degree=#fillme,\n",
    "                                             include_bias=False)\n",
    "ridge_regression = Ridge(alpha=#fillme)\n",
    "pipeline_ridge = Pipeline([(\"polynomial_features\", polynomial_features),\n",
    "                     (\"ridge_regression\", ridge_regression)])\n",
    "pipeline_ridge.fit(X[:, np.newaxis], y)\n"
   ]
  },
  {
   "cell_type": "markdown",
   "metadata": {},
   "source": [
    "For plotting you can reuse the following code"
   ]
  },
  {
   "cell_type": "code",
   "execution_count": 53,
   "metadata": {},
   "outputs": [
    {
     "data": {
      "text/plain": [
       "<matplotlib.legend.Legend at 0x7f91baae1f90>"
      ]
     },
     "execution_count": 53,
     "metadata": {},
     "output_type": "execute_result"
    },
    {
     "data": {
      "image/png": "[encoded data removed]",
      "text/plain": [
       "<Figure size 432x288 with 1 Axes>"
      ]
     },
     "metadata": {
      "needs_background": "light"
     },
     "output_type": "display_data"
    }
   ],
   "source": [
    "plt.plot(X_test, pipeline_ridge.predict(X_test[:, np.newaxis]), label=\"model of degree with regularization strength\")\n",
    "plt.scatter(X, y, label='noisy samples')\n",
    "plt.plot(X_test, true_function(X_test), c='r', label='true function')\n",
    "plt.legend()"
   ]
  },
  {
   "cell_type": "markdown",
   "metadata": {},
   "source": [
    "#### 2.16 What do you observe if you change the number of samples from the function?"
   ]
  },
  {
   "cell_type": "markdown",
   "metadata": {},
   "source": [
    "__< Your answer >__"
   ]
  },
  {
   "cell_type": "markdown",
   "metadata": {},
   "source": [
    "#### 2.17 Why do we need a test set in machine learning?"
   ]
  },
  {
   "cell_type": "markdown",
   "metadata": {},
   "source": [
    "__< Your answer >__"
   ]
  },
  {
   "cell_type": "markdown",
   "metadata": {},
   "source": [
    "#### 2.18 If we need to optimize hyperparameters, do we use the test set to select the best hyperparameters? (1 point)"
   ]
  },
  {
   "cell_type": "markdown",
   "metadata": {},
   "source": [
    "__< Your answer >__"
   ]
  }
 ],
 "metadata": {
  "kernelspec": {
   "display_name": "base",
   "language": "python",
   "name": "python3"
  },
  "language_info": {
   "codemirror_mode": {
    "name": "ipython",
    "version": 3
   },
   "file_extension": ".py",
   "mimetype": "text/x-python",
   "name": "python",
   "nbconvert_exporter": "python",
   "pygments_lexer": "ipython3",
   "version": "3.12.2"
  }
 },
 "nbformat": 4,
 "nbformat_minor": 4
}
