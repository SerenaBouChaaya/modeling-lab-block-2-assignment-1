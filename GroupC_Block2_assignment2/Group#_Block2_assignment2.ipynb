{
 "cells": [
  {
   "cell_type": "markdown",
   "metadata": {},
   "source": [
    "# ***ADSORPTION USING AIIDALAB***\n"
   ]
  },
  {
   "cell_type": "markdown",
   "metadata": {},
   "source": [
    "***Q1. Three types of calculations AiiDAlab offers for adsorption studies***\n",
    "\n",
    "*Single-component adsorption isotherms* :\n",
    "These are the fundamental calculations in adsorption studies and describe how much of a gas is taken up by a porous material at a constant temperature as the pressure increases. They provide direct information about adsorption capacity, the affinity of the material for the adsorbate, and the pressure range where uptake occurs. In AiiDAlab, these isotherms can be fitted to models such as Langmuir, BET, or Toth, allowing one to extract useful parameters that summarize adsorption behavior.\n",
    "\n",
    "*Mixture adsorption via IAST (Ideal Adsorbed Solution Theory)*: \n",
    "Real-world separations typically involve mixtures of gases rather than pure components. IAST is a predictive framework that uses single-component isotherms as input to estimate how different gases will compete for adsorption sites. With this method, AiiDAlab can calculate mixture uptake and separation selectivity without the need for costly multicomponent simulations or experiments. This makes it especially useful for applications like CO₂ capture from flue gas or natural gas purification.\n",
    "\n",
    "*Isosteric heat of adsorption*: \n",
    "This thermodynamic property measures the energy released when a gas molecule adsorbs into a porous material. AiiDAlab evaluates it by comparing isotherms collected at multiple temperatures and applying relations such as Clausius–Clapeyron. The isosteric heat reflects the strength of interaction between gas and material, and it highlights how this strength changes with loading. This information is crucial for balancing high uptake with energy-efficient regeneration in processes such as carbon capture."
   ]
  },
  {
   "cell_type": "markdown",
   "metadata": {},
   "source": [
    "***Q2. Physical properties of IRMOF-1***\n",
    "job PK : 5 \n",
    "Density : 0.576983 g/cm^3\n",
    "ASA A^2 : 3964.65 A^2\n",
    "POAV (A3) : 13737.4 A^3 - This is the total pore volume in the structure.\n",
    "Porosity : 0.77498 - (porosity) tells you the relative amount compared to the total material volume. (POAV volume fraction)\n"
   ]
  },
  {
   "cell_type": "markdown",
   "metadata": {},
   "source": [
    "***Q3. Henry coefficients***\n",
    "\n",
    "CO2 : JOB PK 330\n",
    "CH4 : JOB PK 357 (isotherm results) => 0.000001"
   ]
  }
 ],
 "metadata": {
  "language_info": {
   "name": "python"
  }
 },
 "nbformat": 4,
 "nbformat_minor": 2
}
