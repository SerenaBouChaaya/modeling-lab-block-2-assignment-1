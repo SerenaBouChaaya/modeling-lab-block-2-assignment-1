{
 "cells": [
  {
   "cell_type": "markdown",
   "metadata": {},
   "source": [
    "# ***ADSORPTION USING AIIDALAB***\n"
   ]
  },
  {
   "cell_type": "markdown",
   "metadata": {},
   "source": [
    "***Q1. Three types of calculations AiiDAlab offers for adsorption studies***\n"
   ]
  },
  {
   "cell_type": "markdown",
   "metadata": {},
   "source": [
    "***Q2. Physical properties of IRMOF-1***\n",
    "job PK : 5 \n",
    "Density : 0.576983 g/cm^3\n",
    "ASA A^2 : 3964.65 A^2\n",
    "POAV (A3) : 13737.4 A^3 - This is the total pore volume in the structure.\n",
    "Porosity : 0.77498 - (porosity) tells you the relative amount compared to the total material volume. (POAV volume fraction)\n"
   ]
  },
  {
   "cell_type": "markdown",
   "metadata": {},
   "source": [
    "***Q3. Henry coefficients***\n",
    "\n",
    "CO2 : JOB PK 112\n",
    "CH4 : JOB PK 96"
   ]
  }
 ],
 "metadata": {
  "language_info": {
   "name": "python"
  }
 },
 "nbformat": 4,
 "nbformat_minor": 2
}
