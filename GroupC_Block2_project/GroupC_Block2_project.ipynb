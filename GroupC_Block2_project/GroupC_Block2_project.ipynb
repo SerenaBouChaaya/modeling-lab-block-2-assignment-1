{
 "cells": [
  {
   "cell_type": "markdown",
   "metadata": {},
   "source": [
    "# ***MG-MOF-74 ANALYSIS***"
   ]
  },
  {
   "cell_type": "markdown",
   "metadata": {},
   "source": [
    "***1)Physical properties of Mg-MO-74***\n",
    "\n",
    "Here, the different physical properties are presented for the studied material Mg-MOF-74, using a spherical probe of radius 1.525 Å.\n",
    "\n",
    "**Results**\n",
    "\n",
    "1. *Density*\n",
    "\n",
    "* *Value:* 0.886275 g·cm⁻³\n",
    "* *Description:* Density is the mass per unit volume of the framework. A relatively low density indicates a large void fraction, characteristic of porous solids.\n",
    "\n",
    "2. *Accessible Surface Area (ASA)*\n",
    "\n",
    "* *Value:* 222.828 Å² \n",
    "* *Description:* ASA represents the total surface area that a spherical probe (radius = 1.525 Å) can reach when “rolling” over the atomic framework. It quantifies the extent of internal surface available for adsorption or interaction with guest molecules.\n",
    "\n",
    "3. *Probe-Occupiable Accessible Volume (POAV)*\n",
    "\n",
    "* *Value:* 837.198 Å³ \n",
    "* *Description:* POAV is the fraction of the unit cell volume that can be occupied by the **center** of the probe without overlap with the atoms. This defines the accessible pore volume available for potential guest species.\n",
    "\n",
    "4. *Porosity*\n",
    "\n",
    "* *Value:* 0.61368 (≈ 61.4 %)\n",
    "* *Description:* Porosity is calculated as the ratio of POAV to the total unit cell volume. For this material:\n",
    "\n",
    "  $$\n",
    "  \\text{Porosity} = \\frac{\\text{POAV}}{\\text{Unit cell volume}} = \\frac{837.198 \\,\\text{Å}^3}{1364.22 \\,\\text{Å}^3} \\approx 0.614\n",
    "  $$\n",
    "\n",
    "  This indicates that approximately three-quarters of the unit cell is available as free volume accessible to the probe.\n",
    "\n"
   ]
  },
  {
   "cell_type": "markdown",
   "metadata": {},
   "source": [
    "***2) Henry coefficient***\n",
    "\n",
    "1. **CO2**\n",
    "\n",
    "* *Henry coefficient (average):* 3.3303 × 10⁻⁶ mol·kg⁻¹·Pa⁻¹\n",
    "* *Deviation:* 3.31965 × 10⁻⁶ mol·kg⁻¹·Pa⁻¹\n",
    "\n",
    "2. **N2**\n",
    "\n",
    "* *Henry coefficient (average):* 4.95 × 10⁻⁶ mol·kg⁻¹·Pa⁻¹\n",
    "* *Deviation:* 1.80522 × 10⁻⁸ mol·kg⁻¹·Pa⁻¹"
   ]
  },
  {
   "cell_type": "markdown",
   "metadata": {},
   "source": [
    "# ***NOTT-300 ANALYSIS***"
   ]
  },
  {
   "cell_type": "markdown",
   "metadata": {},
   "source": [
    "***Physical properties of NOTT-300***\n",
    "\n",
    "Here, the different physical properties are presented for the studied material NOTT-300, using a spherical probe of radius 1.525 Å.\n",
    "\n",
    "**Results**\n",
    "\n",
    "1. *Density*\n",
    "\n",
    "* *Value:* 1.03926 g·cm⁻³\n",
    "\n",
    "2. *Accessible Surface Area (ASA)*\n",
    "\n",
    "* *Value:* 453.452 Å² \n",
    "\n",
    "3. *Probe-Occupiable Accessible Volume (POAV)*\n",
    "\n",
    "* *Value:* 1297.11 Å³ \n",
    "\n",
    "4. *Porosity*\n",
    "\n",
    "* *Value:* 0.48999 (≈ 48.99 %)\n",
    "* *Description:* Porosity is calculated as the ratio of POAV to the total unit cell volume. For this material:\n",
    "\n",
    "  $$\n",
    "  \\text{Porosity} = \\frac{\\text{POAV}}{\\text{Unit cell volume}} = \\frac{1297.11 \\,\\text{Å}^3}{2647.21 \\,\\text{Å}^3} \\approx 0.4899\n",
    "  $$\n",
    "\n",
    "  This indicates that approximately three-quarters of the unit cell is available as free volume accessible to the probe."
   ]
  },
  {
   "cell_type": "markdown",
   "metadata": {},
   "source": [
    "***2) Henry coefficient***\n",
    "\n",
    "1. **CO2**\n",
    "\n",
    "* *Henry coefficient (average):* 1.84485 × 10⁻⁴ mol·kg⁻¹·Pa⁻¹\n",
    "* *Deviation:* 1.79976 × 10⁻⁶ mol·kg⁻¹·Pa⁻¹\n",
    "\n",
    "\n",
    "2. **N2**\n",
    "\n",
    "* *Henry coefficient (average):* 1.05215 × 10⁻⁵ mol·kg⁻¹·Pa⁻¹\n",
    "* *Deviation:* 3.47987 × 10⁻⁸ mol·kg⁻¹·Pa⁻¹\n"
   ]
  },
  {
   "cell_type": "markdown",
   "metadata": {},
   "source": [
    "# ***UTSA-20 ANALYSIS***"
   ]
  },
  {
   "cell_type": "markdown",
   "metadata": {},
   "source": [
    "***Physical properties of UTSA-20***\n",
    "\n",
    "Here, the different physical properties are presented for the studied material UTSA-20, using a spherical probe of radius 1.525 Å.\n",
    "\n",
    "**Results**\n",
    "\n",
    "1. *Density*\n",
    "\n",
    "* *Value:* 0.882399 g·cm⁻³\n",
    "\n",
    "2. *Accessible Surface Area (ASA)*\n",
    "\n",
    "* *Value:* 1307.51 Å² \n",
    "\n",
    "3. *Probe-Occupiable Accessible Volume (POAV)*\n",
    "\n",
    "* *Value:* 3575.36 Å³ \n",
    "\n",
    "4. *Porosity*\n",
    "\n",
    "* *Value:* 0.62907 (≈ 62.91 %)\n",
    "* *Description:* Porosity is calculated as the ratio of POAV to the total unit cell volume. For this material:\n",
    "\n",
    "  $$\n",
    "  \\text{Porosity} = \\frac{\\text{POAV}}{\\text{Unit cell volume}} = \\frac{3575.36 \\,\\text{Å}^3}{5683.56 \\,\\text{Å}^3} \\approx 0.6291\n",
    "  $$\n",
    "\n",
    "  This indicates that approximately three-quarters of the unit cell is available as free volume accessible to the probe."
   ]
  },
  {
   "cell_type": "markdown",
   "metadata": {},
   "source": [
    "***2) Henry coefficient***\n",
    "\n",
    "1. **CO2**\n",
    "\n",
    "* *Henry coefficient (average):* 4.09236 × 10⁻⁵ mol·kg⁻¹·Pa⁻¹\n",
    "* *Deviation:* 5.89078 × 10⁻⁷ mol·kg⁻¹·Pa⁻¹\n",
    "\n",
    "2. **N2**\n",
    "\n",
    "* *Henry coefficient (average):* 4.38146 × 10⁻⁶ mol·kg⁻¹·Pa⁻¹\n",
    "* *Deviation:* 2.51098 × 10⁻⁸ mol·kg⁻¹·Pa⁻¹\n"
   ]
  },
  {
   "cell_type": "markdown",
   "metadata": {},
   "source": [
    "# ***UTSA-80 ANALYSIS***"
   ]
  },
  {
   "cell_type": "markdown",
   "metadata": {},
   "source": [
    "***Physical properties of UTSA-80***\n",
    "\n",
    "Here, the different physical properties are presented for the studied material UTSA-80, using a spherical probe of radius 1.525 Å.\n",
    "\n",
    "**Results**\n",
    "\n",
    "1. *Density*\n",
    "\n",
    "* *Value:* 0.678215 g·cm⁻³\n",
    "\n",
    "2. *Accessible Surface Area (ASA)*\n",
    "\n",
    "* *Value:* 3114.62 Å² \n",
    "\n",
    "3. *Probe-Occupiable Accessible Volume (POAV)*\n",
    "\n",
    "* *Value:* 9619.78 Å³ \n",
    "\n",
    "4. *Porosity*\n",
    "\n",
    "* *Value:*0.66798 (≈ 66.798 %)\n",
    "* *Description:* Porosity is calculated as the ratio of POAV to the total unit cell volume. For this material:\n",
    "\n",
    "  $$\n",
    "  \\text{Porosity} = \\frac{\\text{POAV}}{\\text{Unit cell volume}} = \\frac{ 9619.78 \\,\\text{Å}^3}{14401.3 \\,\\text{Å}^3} \\approx 0.66798\n",
    "  $$\n",
    "\n",
    "  This indicates that approximately three-quarters of the unit cell is available as free volume accessible to the probe."
   ]
  },
  {
   "cell_type": "markdown",
   "metadata": {},
   "source": [
    "***2) Henry coefficient***\n",
    "\n",
    "1. **CO2**\n",
    "\n",
    "* *Henry coefficient (average):* 1.70683 × 10⁻⁵ mol·kg⁻¹·Pa⁻¹\n",
    "* *Deviation:* 1.33528 × 10⁻⁷ mol·kg⁻¹·Pa⁻¹\n",
    "\n",
    "\n",
    "2. **N2**\n",
    "\n",
    "* *Henry coefficient (average):* 3.32969 × 10⁻⁶ mol·kg⁻¹·Pa⁻¹\n",
    "* *Deviation:* 2.5969 × 10⁻⁸ mol·kg⁻¹·Pa⁻¹\n"
   ]
  },
  {
   "cell_type": "markdown",
   "metadata": {},
   "source": [
    "# ***ZIF-8 ANALYSIS***"
   ]
  },
  {
   "cell_type": "markdown",
   "metadata": {},
   "source": [
    "***Physical properties of UTSA-80***\n",
    "\n",
    "Here, the different physical properties are presented for the studied material UTSA-80, using a spherical probe of radius 1.525 Å.\n",
    "\n",
    "**Results**\n",
    "\n",
    "1. *Density*\n",
    "\n",
    "* *Value:* 0.909567 g·cm⁻³\n",
    "\n",
    "2. *Accessible Surface Area (ASA)*\n",
    "\n",
    "* *Value:* 787.421 Å² \n",
    "\n",
    "3. *Probe-Occupiable Accessible Volume (POAV)*\n",
    "\n",
    "* *Value:* 2488.25 Å³ \n",
    "\n",
    "4. *Porosity*\n",
    "\n",
    "* *Value:*0.49906 (≈ 49.906 %)\n",
    "* *Description:* Porosity is calculated as the ratio of POAV to the total unit cell volume. For this material:\n",
    "\n",
    "  $$\n",
    "  \\text{Porosity} = \\frac{\\text{POAV}}{\\text{Unit cell volume}} = \\frac{ 2488.25 \\,\\text{Å}^3}{4985.87 \\,\\text{Å}^3} \\approx 0.49.906\n",
    "  $$\n",
    "\n",
    "  This indicates that approximately three-quarters of the unit cell is available as free volume accessible to the probe."
   ]
  },
  {
   "cell_type": "markdown",
   "metadata": {},
   "source": [
    "***2) Henry coefficient***\n",
    "\n",
    "1. **CO2**\n",
    "\n",
    "* *Henry coefficient (average):* 8.82694 × 10⁻⁶ mol·kg⁻¹·Pa⁻¹\n",
    "* *Deviation:* 5.68004 × 10⁻⁸ mol·kg⁻¹·Pa⁻¹\n",
    "\n",
    "\n",
    "2. **N2**\n",
    "\n",
    "No Henry coefficients were calculated. This is due to the size selectivity in ZIF-8 when comparing the kinetic diameter of the gases and the pore aperture. \n",
    "\n",
    "\n",
    "At low pressure, adsorption follows Henry’s law, $(n \\approx K_H P)$. A non-zero Henry coefficient $(K_H)$ only appears if the adsorbate can physically pass through the **pore window** (the smallest opening that connects cavities). A practical screening is to compare:\n",
    "\n",
    "* the **pore-limiting aperture** (Å), and\n",
    "* the gas **kinetic diameter** $d_k$ (Å).\n",
    "\n",
    "If $d_k \\le$ aperture → pore access is feasible (finite $K_H$);\n",
    "if $d_k >$ aperture → size exclusion (vanishing $K_H$).\n",
    "\n",
    "For this study standard kinetic diameters are used: **CO₂ ≈ 3.3 Å**, **N₂ ≈ 3.64 Å**.\n",
    "\n",
    "\n",
    "Indeed, the idea here is to compare the gases kinetic diametes with the framework's pore-limitng aperture. The aperture, meaning the largest free sphere is of **3.39168 Å**. \n",
    "\n",
    "CO₂ has a kinetic diameter of ≈ 3.3 Å and this is smaller than the aperture and therefore the CO₂ molecules can access the micropores, consistent with the estimated saturation loading of 10.96 mol·kg⁻¹. \n",
    "\n",
    "N₂ on the other hand has a kinetic diameter of ≈ 3.64 Å and this is larger than the aperture and the molecules are therefore size-excluded, consistent with **0.0 mol·kg⁻¹** saturation loading. In other words, the **window**, controls uptake in the Henry regime.\n",
    "\n",
    "\n",
    "\n",
    "* **CO₂:** $d_k \\approx 3.3$ Å $\\lesssim$ 3.39168 Å → **passes the window** → enters micropores → finite Henry slope and substantial loading (10.96 mol·kg⁻¹).\n",
    "* **N₂:** $d_k \\approx 3.64$ Å $\\gtrsim$ 3.39168 Å → **blocked at the window** → size-excluded in the Henry regime → negligible uptake (0.0 mol·kg⁻¹) and no meaningful Henry slope to report.\n",
    "\n",
    "This explains why ZIF-8 CSV for N₂ has no Henry coefficient: the low-pressure isotherm is essentially flat because N₂ cannot access the micropores under these conditions.\n",
    "\n",
    "To conclude the inner cavities in this material are large (~11.46 Å), but diffusion is governed by the **window** (~3.39 Å). \n",
    "Therefore ZIF-8 is effectively **porous to CO₂** but **non-porous to N₂** under the same low-pressure conditions."
   ]
  },
  {
   "cell_type": "markdown",
   "metadata": {},
   "source": [
    "\n",
    "# ***Report on CO₂ Affinity of Candidate MOFs***\n",
    "\n",
    "The goal of this analysis was to compare the affinity of several metal–organic frameworks (MOFs) for CO₂ adsorption, based on their low-pressure adsorption characteristics. The primary metric used is the **Henry’s constant**, derived from simulation data contained in the provided CSV files. Henry’s constant (mol · kg⁻¹ · Pa⁻¹) quantifies the proportionality between uptake and pressure in the Henry’s law regime; higher values correspond to stronger interactions and thus higher affinity for CO₂.\n",
    "\n",
    "***Methodology***\n",
    "\n",
    "* Data were extracted directly from the provided CSV files, which contained metadata including Henry’s constants, adsorption energies, and simulated isotherms.\n",
    "* For consistency, the analysis used the reported *henry_coefficient_average* values (mol · kg⁻¹ · Pa⁻¹).\n",
    "* Structures were ranked from highest to lowest affinity according to the magnitude of their Henry’s constant.\n",
    "\n",
    "***Results***\n",
    "\n",
    "| Rank | Structure    | Henry’s Constant (mol · kg⁻¹ · Pa⁻¹) |\n",
    "| ---- | ------------ | ------------------------------------ | \n",
    "| 1    | **NOTT-300** | 1.84 × 10⁻⁴                          | \n",
    "| 2    | **MG_MOF**   | 8.63 × 10⁻⁵                          | \n",
    "| 3    | **UTSA-20**  | 4.09 × 10⁻⁵                          | \n",
    "| 4    | **UTSA-80**  | 1.71 × 10⁻⁵                          | \n",
    "| 5    | **ZIF-8**    | 8.83 × 10⁻⁶                          | \n",
    "\n",
    "***Key observations:***\n",
    "\n",
    "* **NOTT-300** exhibits the highest Henry’s constant, suggesting the strongest affinity for CO₂ among the tested structures.\n",
    "* **MG_MOF** also shows a relatively high value, with an adsorption energy slightly more negative than NOTT-300, consistent with favorable binding.\n",
    "* **UTSA-20** and **UTSA-80** fall into intermediate ranges, with UTSA-20 outperforming UTSA-80.\n",
    "* **ZIF-8** shows the weakest affinity, with Henry’s constant an order of magnitude lower than NOTT-300.\n",
    "\n",
    "***Conclusion***\n",
    "\n",
    "Based on Henry’s constants in mol · kg⁻¹ · Pa⁻¹, the MOFs rank in the following order of CO₂ affinity:\n",
    "\n",
    "***NOTT-300 > MG_MOF > UTSA-20 > UTSA-80 > ZIF-8***\n",
    "\n"
   ]
  },
  {
   "cell_type": "markdown",
   "metadata": {},
   "source": [
    "# ***Pure component isotherms for the different materials with CO2***"
   ]
  },
  {
   "cell_type": "markdown",
   "metadata": {},
   "source": [
    "First we convert the cvs files into something we can read. "
   ]
  },
  {
   "cell_type": "code",
   "execution_count": 8,
   "metadata": {},
   "outputs": [],
   "source": [
    "import numpy as np\n",
    "import matplotlib.pyplot as plt\n",
    "import pyiast\n",
    "import pandas as pd\n",
    "\n",
    "df_mg_co2 = pd.read_csv(\"MG_MOF-74/MG_MOF_CO2.csv\")\n",
    "df_nott_co2=pd.read_csv(\"NOTT-300/NOTT-300_CO2.csv\")\n",
    "df_utsa20_co2=pd.read_csv(\"UTSA-20/UTSA-20_CO2.csv\")\n",
    "df_utsa80_co2=pd.read_csv(\"UTSA-80/UTSA-80_CO2.csv\")\n",
    "df_zif_co2=pd.read_csv(\"ZIF-8/ZIF-8_CO2.csv\")"
   ]
  },
  {
   "cell_type": "code",
   "execution_count": null,
   "metadata": {},
   "outputs": [
    {
     "name": "stdout",
     "output_type": "stream",
     "text": [
      "   Pressure(bar)  Loading(mmol/g)\n",
      "0       0.200000         1.864584\n",
      "1       0.412378         3.493013\n",
      "2       0.674882         5.798593\n",
      "3       1.006672         7.274198\n",
      "4       1.437634         8.739194\n"
     ]
    }
   ],
   "source": [
    "import pandas as pd\n",
    "from ast import literal_eval\n",
    "\n",
    "\n",
    "iso_dict_ = literal_eval(df_mg_co2[df_mg_co2[\"Key\"] == \"isotherm\"][\"Value\"].values[0])\n",
    "\n",
    "\n",
    "df_iso_mg_co2 = pd.DataFrame({\n",
    "    \"Pressure(bar)\": iso_dict[\"pressure\"],\n",
    "    \"Loading(mmol/g)\": [val for val in iso_dict[\"loading_absolute_average\"]]  \n",
    "})\n",
    "\n",
    "\n",
    "print(df_iso_mg_co2.head())\n"
   ]
  },
  {
   "cell_type": "code",
   "execution_count": null,
   "metadata": {},
   "outputs": [],
   "source": [
    "import pandas as pd\n",
    "from ast import literal_eval\n",
    "\n",
    "\n",
    "iso_dict = literal_eval(df_co2[df_co2[\"Key\"] == \"isotherm\"][\"Value\"].values[0])\n",
    "\n",
    "\n",
    "df_iso_co2 = pd.DataFrame({\n",
    "    \"Pressure(bar)\": iso_dict[\"pressure\"],\n",
    "    \"Loading(mmol/g)\": [val for val in iso_dict[\"loading_absolute_average\"]]  \n",
    "})\n",
    "\n",
    "print(df_iso_co2.head())\n"
   ]
  }
 ],
 "metadata": {
  "kernelspec": {
   "display_name": "base",
   "language": "python",
   "name": "python3"
  },
  "language_info": {
   "codemirror_mode": {
    "name": "ipython",
    "version": 3
   },
   "file_extension": ".py",
   "mimetype": "text/x-python",
   "name": "python",
   "nbconvert_exporter": "python",
   "pygments_lexer": "ipython3",
   "version": "3.12.2"
  }
 },
 "nbformat": 4,
 "nbformat_minor": 2
}
