{
 "cells": [
  {
   "cell_type": "markdown",
   "metadata": {},
   "source": [
    "# CLASSICAL THERMODYNAMICS #"
   ]
  },
  {
   "cell_type": "markdown",
   "metadata": {},
   "source": [
    "1) *Three basic assumptions of the Langmuir model*\n",
    "There are three main assumptions used to form the Langmuir model, these are : \n",
    "- The adsorbing surface contains a finite number of well-defined, energetically identical sites where adsorption can take place. Each adsorption site is considered as equivalent, meaning every site has the same probability of capturing a molecule \n",
    "- Each site can hold at most one adsorbate molecule. Once a molecule occupies a site, no additonal molecule can adsorb on top of it. This prevents multilayer adsorption and ensures the model describes only the formation of a single layer of molecules on the surface \n",
    "- Adsorbed molecules are assumed to be independant of one another. There are no lateral interactions (attractive or repulsive) between molecules on neighbouring sites. As a result, the adsorption of one molecule does not affect the likelyhood of another molecule adsorbing on a nearby site.  "
   ]
  },
  {
   "cell_type": "markdown",
   "metadata": {},
   "source": [
    "2) Now we would like to prove the following :\n",
    "At high pressure (𝑃 → ∞), the gas uptake reaches a plateau\n",
    "At low pressure (𝑃 → 0), the gas uptake is a linear function of pressure\n",
    "\n",
    "To do this we first take the formula for the Langmuir isotherm : \n",
    "$$q = \\frac{q_{sat} \\, k(T) \\, P}{1 + k(T) \\, P}$$ \n",
    "\n",
    "\n",
    "$$\n",
    "k(T) = k_0 \\, \\exp\\!\\left(-\\frac{\\Delta H}{R T}\\right)\n",
    "$$\n",
    "\n",
    "Here:\n",
    "\n",
    "- $q$ is the uptake (mol·kg $^{-1}$)\n",
    "- $q_{sat}$ is the saturation loading (mol·kg $^{-1}$)\n",
    "- $k$ has units Pa $^{-1}$\n",
    "- $P$ is the pressure (Pa)\n",
    "\n",
    "a) high pressure (𝑃 → ∞)\n",
    "In order to determine the limit of the Langmuir isotherm at high pressures, either the denominator or the numerator need to be pressure dependant, but not both. To do this the numerator and denominator can be divided by kP. This yields the following:\n",
    "\n",
    "$$\n",
    "q = \\frac{q_{\\text{sat}}}{1 + \\tfrac{1}{k(T)P}}\n",
    "$$\n",
    "\n",
    "From this we see that when P goes to ∞ that the fraction \n",
    "$$\n",
    "\\frac{1}{k(T)P}\n",
    "$$\n",
    "goes to 0. \n",
    "\n",
    "This means that we are simply left with q = $q_{sat}$. This indeed shows that at very high pressures, the gas uptake reaches a plateau equal to the saturation loading. \n",
    "\n",
    "b) At low pressures (𝑃 → 0)\n",
    " When P goes to the 0 the denominator goes to 1. Indeed when P goes to 0, kP goes to 0 and so we are left only with 1 at the denominator, the fraction is negligeable when faced with the 1. Though the numerator also goes to 0, but the way it goes to 0 is linear. \n",
    "$$\n",
    "q(P) = \\frac{q_{\\text{sat}} \\, k(T)P}{1 + k(T)P} \\;\\approx\\; q_{\\text{sat}} \\, k(T)P \n",
    "\\quad \\text{for } k(T)P \\ll 1\n",
    "$$\n"
   ]
  },
  {
   "cell_type": "markdown",
   "metadata": {},
   "source": [
    "3. From the previous question we can deduce the temperature dependance of the Henry coefficient. \n",
    "When P goes to 0, this is considered the Henry limit. As said previously in the limit of low pressure, the following relation applies : \n",
    "$$\n",
    "q(P) \\approx\\; q_{\\text{sat}} \\, k(T)P \n",
    "\\quad \\text{for } k(T)P \\ll 1\n",
    "$$\n",
    "Where the Henry coefficient is defined as \n",
    "$$\n",
    "H(T) = \\lim_{P \\to 0} \\frac{q}{P} \\;=\\; q_{\\text{sat}} \\, k(T)\n",
    "$$\n",
    "at low pressures. \n",
    "\n",
    "Previously we determined the following expression for k(T) :\n",
    "$$\n",
    "k(T) = k_0 \\, \\exp\\!\\left(-\\frac{\\Delta H}{R T}\\right)\n",
    "$$\n",
    "Indeed we can insert this equilibrium constant, expressed as a function of temperature described by the Van’t\n",
    "Hoff equation into the Henry limit equation. \n",
    "This yields:\n",
    "\n",
    "$$\n",
    "H(T) = q_{\\text{sat}} \\, k_0 \\, \\exp\\!\\left(-\\frac{\\Delta H}{R T}\\right)\n",
    "$$\n",
    "\n",
    "This can then be linearized to see the clear dependance of the Henry coefficient on temperature. \n",
    "\n",
    "$$\n",
    "\\ln\\!\\left(\\frac{q}{P}\\right) \n",
    "= \\ln\\!\\big(q_{\\text{sat}} \\, k_0\\big) \\;-\\; \\frac{\\Delta H}{R} \\cdot \\frac{1}{T}\n",
    "$$\n",
    "\n",
    "\n",
    "it follows that a plot of $\\ln(q/P)$ versus $1/T$ should yield a straight line.  \n",
    "\n",
    "- The **slope** of this line is given by $-\\Delta H / R$, which provides direct access to the isosteric heat of adsorption $\\Delta H$.  \n",
    "- The **intercept** is $\\ln(q_{\\text{sat}} \\, k_0)$, which contains information about the saturation capacity $q_{\\text{sat}}$ and the pre-exponential factor $k_0$ of the equilibrium constant.  \n",
    "\n",
    "\n"
   ]
  }
 ],
 "metadata": {
  "language_info": {
   "name": "python"
  }
 },
 "nbformat": 4,
 "nbformat_minor": 2
}
